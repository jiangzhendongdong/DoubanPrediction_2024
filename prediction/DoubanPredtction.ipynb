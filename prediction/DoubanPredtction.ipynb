{
 "cells": [
  {
   "cell_type": "code",
   "execution_count": 34,
   "id": "35fe9d51",
   "metadata": {
    "scrolled": true,
    "ExecuteTime": {
     "end_time": "2023-12-20T03:21:54.797277700Z",
     "start_time": "2023-12-20T03:21:54.395073600Z"
    }
   },
   "outputs": [],
   "source": [
    "# 导入Pandas库\n",
    "import pandas as pd\n",
    "movie = pd.read_csv(\"D:/2024毕业设计/代码/douban_prediction/DoubanMoviesData.csv\",encoding=\"utf-8\")\n"
   ]
  },
  {
   "cell_type": "code",
   "execution_count": 35,
   "id": "63000337",
   "metadata": {
    "scrolled": true,
    "ExecuteTime": {
     "end_time": "2023-12-20T03:21:54.797277700Z",
     "start_time": "2023-12-20T03:21:54.556767100Z"
    }
   },
   "outputs": [
    {
     "name": "stdout",
     "output_type": "stream",
     "text": [
      "<class 'pandas.core.frame.DataFrame'>\n",
      "RangeIndex: 10559 entries, 0 to 10558\n",
      "Data columns (total 13 columns):\n",
      " #   Column        Non-Null Count  Dtype  \n",
      "---  ------        --------------  -----  \n",
      " 0   movie         10559 non-null  object \n",
      " 1   douban_score  10559 non-null  float64\n",
      " 2   actors        10559 non-null  object \n",
      " 3   directors     10559 non-null  object \n",
      " 4   douban_votes  10559 non-null  int64  \n",
      " 5   genres        10559 non-null  object \n",
      " 6   languages     10559 non-null  object \n",
      " 7   duration      10559 non-null  int64  \n",
      " 8   regions       10559 non-null  object \n",
      " 9   release_date  10559 non-null  object \n",
      " 10  storyline     10559 non-null  object \n",
      " 11  tags          10559 non-null  object \n",
      " 12  year          10559 non-null  int64  \n",
      "dtypes: float64(1), int64(3), object(9)\n",
      "memory usage: 1.0+ MB\n"
     ]
    }
   ],
   "source": [
    "movie.info()"
   ]
  },
  {
   "cell_type": "code",
   "execution_count": 36,
   "id": "faeacb09",
   "metadata": {
    "ExecuteTime": {
     "end_time": "2023-12-20T03:21:54.798279500Z",
     "start_time": "2023-12-20T03:21:54.584392500Z"
    }
   },
   "outputs": [],
   "source": [
    "attributes = movie.iloc[:, 2:13]  # 获取属性数据，假设属性在第2到第13列\n",
    "douban_score = movie.iloc[:, 1]  # 获取评分数据，假设评分在第2列"
   ]
  },
  {
   "cell_type": "code",
   "execution_count": 37,
   "outputs": [
    {
     "data": {
      "text/plain": "                                                  actors   directors  \\\n0      保罗·爱丁顿/奈杰尔·霍桑/德里克·福德斯/戴安娜·霍迪诺特/约翰·内特尔顿/詹姆斯·格劳特...     彼得·惠特莫尔   \n1      神谷浩史/井上和彦/伊藤美纪/伊藤荣次/堀江一真/木村良平/菅沼久义/松山鹰志/下崎纮史/冈...  大森贵弘/出合小都美   \n2                                    阿尔菲·博/诺姆·刘易斯/马特·卢卡斯      尼克·莫里斯   \n3      张国荣/张丰毅/巩俐/葛优/英达/蒋雯丽/吴大维/吕齐/雷汉/尹治/马明威/费振翔/智一桐/...         陈凯歌   \n4                                    神谷浩史/井上和彦/小林沙苗/伊藤美纪  大森贵弘/出合小都美   \n...                                                  ...         ...   \n10554  凯瑟琳·海格尔/帕特里克·威尔森/乔丹娜·布鲁斯特/凯文·麦克基德/詹姆斯·贝鲁什/拜斯·约...     安东尼·伯恩斯   \n10555                        刘智泰/伊势谷友介/车艺莲/北乃绮/德拉甘·米恰诺维奇         金相满   \n10556  安妮·达尔·托普/劳伦特·斯托克/希尔德加·里瑟/佩尔·克里斯蒂安·埃勒夫森/蒂娜拉·卓卡洛...       本特·哈默   \n10557  潘粤明/吕聿来/秦昊/张晓晨/温心/刘孜/杜海涛/王啸坤/韩秋池/王东方/王思思/谭卓/严屹...         卢庚戌   \n10558                             凯瑟琳·德纳芙/吉约姆·卡内/阿黛拉·哈内尔     安德烈·泰希内   \n\n       douban_votes    genres      languages  duration       regions  \\\n0              3965        喜剧             英语        60            英国   \n1              5955  剧情/动画/奇幻             日语        23            日本   \n2              6430        音乐             英语       178            英国   \n3           1167141  剧情/爱情/同性          汉语普通话       171   中国大陆 / 中国香港   \n4              5629     剧情/动画             日语        24            日本   \n...             ...       ...            ...       ...           ...   \n10554          1903     剧情/喜剧             英语        98            美国   \n10555           142        剧情        韩语 / 日语       121       韩国 / 日本   \n10556           102     剧情/爱情  挪威语 / 法语 / 英语        88  挪威 / 德国 / 法国   \n10557          9343  剧情/爱情/音乐          汉语普通话        96          中国大陆   \n10558           174        剧情             法语       116            法国   \n\n      release_date                                          storyline  \\\n0       1984/12/17  Sitcom about a British government minister and...   \n1        2017/9/27  2017年4月番《夏目友人帐第六季》开播，作品第四卷BD公布，其中将收录TV开播特别篇《鈴鳴...   \n2        2010/10/3  《悲惨世界》是由法国音乐剧作曲家克劳德-米歇尔·勋伯格和阿兰·鲍伯利（Alain Boubl...   \n3         1993/1/1  段小楼（张丰毅）与程蝶衣（张国荣）是一对打小一起长大的师兄弟，两人一个演生，一个饰旦，一向配...   \n4        2017/3/22  第5期Blu-ray/DVDに収録の新作エピソード。それぞれ前編・後編と、連続したエピソード...   \n...            ...                                                ...   \n10554     2015/2/3  唐（帕特里克·威尔森 Patrick Wilson 饰）和妻子莫娜（凯瑟琳·海格尔 Kath...   \n10555    2014/6/19  本片根据真实故事改编，讲述一个拥有天赋嗓音的韩国男高音裴再哲，在一次彩排中突然失声，经过检查...   \n10556    2014/9/26  30多岁的玛丽是名女科学家，从事测量工作，工作一丝不苟。刚刚离婚的她将携带一个1000克的基...   \n10557    2014/1/10  马路（潘粤明 饰）是某交友网站中层白领，工作的压力和家庭生活的平庸无聊让他丧失了对生活的热情...   \n10558    2014/7/16  影片根据70年代一则引起轰动的新闻事件改编。故事讲述在1976年的法国尼斯，地中海宫殿酒店所...   \n\n                                          tags  year  \n0                英剧/喜剧/英国/政治讽刺剧/政治/BBC/经典/黑色幽默  1984  \n1                夏目友人帐/治愈/动漫/日本/动画/温情/日本动画/治愈系  2017  \n2      音乐剧/悲惨世界/英国/经典/音乐/LesMisérables/2010/西区  2010  \n3                      经典/人性/文艺/爱情/人生/同志/剧情/文革  1993  \n4                夏目友人帐/治愈/日本/动漫/动画/日本动画/温情/OVA  2017  \n...                                        ...   ...  \n10554         美国/黑色幽默/喜剧/犯罪/惊悚/家庭/美国电影/凯瑟琳·海格尔  2015  \n10555         韩国电影/音乐/韩国/2014/韓國/日本/真人真事/伊势谷友介  2014  \n10556              挪威/挪威电影/2014/爱情/法国/德国/剧情/北欧  2014  \n10557             青春/水木年华/怒放/中国电影/大陆/爱情/潘粤明/国产  2014  \n10558        法国/爱情/2014/France/剧情/人性/犯罪/吉约姆·卡内  2014  \n\n[10559 rows x 11 columns]",
      "text/html": "<div>\n<style scoped>\n    .dataframe tbody tr th:only-of-type {\n        vertical-align: middle;\n    }\n\n    .dataframe tbody tr th {\n        vertical-align: top;\n    }\n\n    .dataframe thead th {\n        text-align: right;\n    }\n</style>\n<table border=\"1\" class=\"dataframe\">\n  <thead>\n    <tr style=\"text-align: right;\">\n      <th></th>\n      <th>actors</th>\n      <th>directors</th>\n      <th>douban_votes</th>\n      <th>genres</th>\n      <th>languages</th>\n      <th>duration</th>\n      <th>regions</th>\n      <th>release_date</th>\n      <th>storyline</th>\n      <th>tags</th>\n      <th>year</th>\n    </tr>\n  </thead>\n  <tbody>\n    <tr>\n      <th>0</th>\n      <td>保罗·爱丁顿/奈杰尔·霍桑/德里克·福德斯/戴安娜·霍迪诺特/约翰·内特尔顿/詹姆斯·格劳特...</td>\n      <td>彼得·惠特莫尔</td>\n      <td>3965</td>\n      <td>喜剧</td>\n      <td>英语</td>\n      <td>60</td>\n      <td>英国</td>\n      <td>1984/12/17</td>\n      <td>Sitcom about a British government minister and...</td>\n      <td>英剧/喜剧/英国/政治讽刺剧/政治/BBC/经典/黑色幽默</td>\n      <td>1984</td>\n    </tr>\n    <tr>\n      <th>1</th>\n      <td>神谷浩史/井上和彦/伊藤美纪/伊藤荣次/堀江一真/木村良平/菅沼久义/松山鹰志/下崎纮史/冈...</td>\n      <td>大森贵弘/出合小都美</td>\n      <td>5955</td>\n      <td>剧情/动画/奇幻</td>\n      <td>日语</td>\n      <td>23</td>\n      <td>日本</td>\n      <td>2017/9/27</td>\n      <td>2017年4月番《夏目友人帐第六季》开播，作品第四卷BD公布，其中将收录TV开播特别篇《鈴鳴...</td>\n      <td>夏目友人帐/治愈/动漫/日本/动画/温情/日本动画/治愈系</td>\n      <td>2017</td>\n    </tr>\n    <tr>\n      <th>2</th>\n      <td>阿尔菲·博/诺姆·刘易斯/马特·卢卡斯</td>\n      <td>尼克·莫里斯</td>\n      <td>6430</td>\n      <td>音乐</td>\n      <td>英语</td>\n      <td>178</td>\n      <td>英国</td>\n      <td>2010/10/3</td>\n      <td>《悲惨世界》是由法国音乐剧作曲家克劳德-米歇尔·勋伯格和阿兰·鲍伯利（Alain Boubl...</td>\n      <td>音乐剧/悲惨世界/英国/经典/音乐/LesMisérables/2010/西区</td>\n      <td>2010</td>\n    </tr>\n    <tr>\n      <th>3</th>\n      <td>张国荣/张丰毅/巩俐/葛优/英达/蒋雯丽/吴大维/吕齐/雷汉/尹治/马明威/费振翔/智一桐/...</td>\n      <td>陈凯歌</td>\n      <td>1167141</td>\n      <td>剧情/爱情/同性</td>\n      <td>汉语普通话</td>\n      <td>171</td>\n      <td>中国大陆 / 中国香港</td>\n      <td>1993/1/1</td>\n      <td>段小楼（张丰毅）与程蝶衣（张国荣）是一对打小一起长大的师兄弟，两人一个演生，一个饰旦，一向配...</td>\n      <td>经典/人性/文艺/爱情/人生/同志/剧情/文革</td>\n      <td>1993</td>\n    </tr>\n    <tr>\n      <th>4</th>\n      <td>神谷浩史/井上和彦/小林沙苗/伊藤美纪</td>\n      <td>大森贵弘/出合小都美</td>\n      <td>5629</td>\n      <td>剧情/动画</td>\n      <td>日语</td>\n      <td>24</td>\n      <td>日本</td>\n      <td>2017/3/22</td>\n      <td>第5期Blu-ray/DVDに収録の新作エピソード。それぞれ前編・後編と、連続したエピソード...</td>\n      <td>夏目友人帐/治愈/日本/动漫/动画/日本动画/温情/OVA</td>\n      <td>2017</td>\n    </tr>\n    <tr>\n      <th>...</th>\n      <td>...</td>\n      <td>...</td>\n      <td>...</td>\n      <td>...</td>\n      <td>...</td>\n      <td>...</td>\n      <td>...</td>\n      <td>...</td>\n      <td>...</td>\n      <td>...</td>\n      <td>...</td>\n    </tr>\n    <tr>\n      <th>10554</th>\n      <td>凯瑟琳·海格尔/帕特里克·威尔森/乔丹娜·布鲁斯特/凯文·麦克基德/詹姆斯·贝鲁什/拜斯·约...</td>\n      <td>安东尼·伯恩斯</td>\n      <td>1903</td>\n      <td>剧情/喜剧</td>\n      <td>英语</td>\n      <td>98</td>\n      <td>美国</td>\n      <td>2015/2/3</td>\n      <td>唐（帕特里克·威尔森 Patrick Wilson 饰）和妻子莫娜（凯瑟琳·海格尔 Kath...</td>\n      <td>美国/黑色幽默/喜剧/犯罪/惊悚/家庭/美国电影/凯瑟琳·海格尔</td>\n      <td>2015</td>\n    </tr>\n    <tr>\n      <th>10555</th>\n      <td>刘智泰/伊势谷友介/车艺莲/北乃绮/德拉甘·米恰诺维奇</td>\n      <td>金相满</td>\n      <td>142</td>\n      <td>剧情</td>\n      <td>韩语 / 日语</td>\n      <td>121</td>\n      <td>韩国 / 日本</td>\n      <td>2014/6/19</td>\n      <td>本片根据真实故事改编，讲述一个拥有天赋嗓音的韩国男高音裴再哲，在一次彩排中突然失声，经过检查...</td>\n      <td>韩国电影/音乐/韩国/2014/韓國/日本/真人真事/伊势谷友介</td>\n      <td>2014</td>\n    </tr>\n    <tr>\n      <th>10556</th>\n      <td>安妮·达尔·托普/劳伦特·斯托克/希尔德加·里瑟/佩尔·克里斯蒂安·埃勒夫森/蒂娜拉·卓卡洛...</td>\n      <td>本特·哈默</td>\n      <td>102</td>\n      <td>剧情/爱情</td>\n      <td>挪威语 / 法语 / 英语</td>\n      <td>88</td>\n      <td>挪威 / 德国 / 法国</td>\n      <td>2014/9/26</td>\n      <td>30多岁的玛丽是名女科学家，从事测量工作，工作一丝不苟。刚刚离婚的她将携带一个1000克的基...</td>\n      <td>挪威/挪威电影/2014/爱情/法国/德国/剧情/北欧</td>\n      <td>2014</td>\n    </tr>\n    <tr>\n      <th>10557</th>\n      <td>潘粤明/吕聿来/秦昊/张晓晨/温心/刘孜/杜海涛/王啸坤/韩秋池/王东方/王思思/谭卓/严屹...</td>\n      <td>卢庚戌</td>\n      <td>9343</td>\n      <td>剧情/爱情/音乐</td>\n      <td>汉语普通话</td>\n      <td>96</td>\n      <td>中国大陆</td>\n      <td>2014/1/10</td>\n      <td>马路（潘粤明 饰）是某交友网站中层白领，工作的压力和家庭生活的平庸无聊让他丧失了对生活的热情...</td>\n      <td>青春/水木年华/怒放/中国电影/大陆/爱情/潘粤明/国产</td>\n      <td>2014</td>\n    </tr>\n    <tr>\n      <th>10558</th>\n      <td>凯瑟琳·德纳芙/吉约姆·卡内/阿黛拉·哈内尔</td>\n      <td>安德烈·泰希内</td>\n      <td>174</td>\n      <td>剧情</td>\n      <td>法语</td>\n      <td>116</td>\n      <td>法国</td>\n      <td>2014/7/16</td>\n      <td>影片根据70年代一则引起轰动的新闻事件改编。故事讲述在1976年的法国尼斯，地中海宫殿酒店所...</td>\n      <td>法国/爱情/2014/France/剧情/人性/犯罪/吉约姆·卡内</td>\n      <td>2014</td>\n    </tr>\n  </tbody>\n</table>\n<p>10559 rows × 11 columns</p>\n</div>"
     },
     "execution_count": 37,
     "metadata": {},
     "output_type": "execute_result"
    }
   ],
   "source": [
    "attributes"
   ],
   "metadata": {
    "collapsed": false,
    "ExecuteTime": {
     "end_time": "2023-12-20T03:21:54.799277400Z",
     "start_time": "2023-12-20T03:21:54.606393100Z"
    }
   },
   "id": "f807b1330ab32b66"
  },
  {
   "cell_type": "code",
   "execution_count": 38,
   "outputs": [
    {
     "data": {
      "text/plain": "0        9.8\n1        9.6\n2        9.6\n3        9.6\n4        9.5\n        ... \n10554    6.5\n10555    6.5\n10556    6.5\n10557    6.5\n10558    6.5\nName: douban_score, Length: 10559, dtype: float64"
     },
     "execution_count": 38,
     "metadata": {},
     "output_type": "execute_result"
    }
   ],
   "source": [
    "douban_score"
   ],
   "metadata": {
    "collapsed": false,
    "ExecuteTime": {
     "end_time": "2023-12-20T03:21:54.800272900Z",
     "start_time": "2023-12-20T03:21:54.615401400Z"
    }
   },
   "id": "fc3766454057da2"
  },
  {
   "cell_type": "code",
   "execution_count": 39,
   "id": "88a2254d",
   "metadata": {
    "ExecuteTime": {
     "end_time": "2023-12-20T03:21:54.800272900Z",
     "start_time": "2023-12-20T03:21:54.630405Z"
    }
   },
   "outputs": [],
   "source": [
    "# 导入matplotlib.pyplot模块\n",
    "import matplotlib.pyplot as plt\n",
    "# 获取属性矩阵的列数\n",
    "# num_attributes = attributes.shape[1]\n",
    "# # 创建num_attributes个子图，并设置子图大小\n",
    "# fig, axs = plt.subplots(num_attributes, 1, figsize=(8, 6*num_attributes))\n",
    "# \n",
    "# # 遍历属性矩阵的每一列\n",
    "# for i in range(num_attributes):\n",
    "#     # 绘制属性列和豆瓣评分之间的散点图\n",
    "#     axs[i].scatter(attributes.iloc[:, i], douban_score)\n",
    "#     # 设置x轴标签\n",
    "#     axs[i].set_xlabel('Attribute {}'.format(i+1))\n",
    "#     # 设置y轴标签\n",
    "#     axs[i].set_ylabel('Rating Score')\n",
    "# \n",
    "# # 调整子图布局\n",
    "# plt.tight_layout()\n",
    "# # 显示图形\n",
    "# plt.show()\n"
   ]
  },
  {
   "cell_type": "code",
   "execution_count": 40,
   "id": "ed4ebaf3",
   "metadata": {
    "ExecuteTime": {
     "end_time": "2023-12-20T03:21:54.801274900Z",
     "start_time": "2023-12-20T03:21:54.651393Z"
    }
   },
   "outputs": [
    {
     "data": {
      "text/plain": "                 movie  douban_score  \\\n0        是，大臣 1984圣诞特辑           9.8   \n1  夏目友人帐 第六季 特别篇 铃响的残株           9.6   \n2       悲惨世界：25周年纪念演唱会           9.6   \n3                 霸王别姬           9.6   \n4     夏目友人帐 五 特别篇：一夜酒杯           9.5   \n\n                                              actors   directors  \\\n0  保罗·爱丁顿/奈杰尔·霍桑/德里克·福德斯/戴安娜·霍迪诺特/约翰·内特尔顿/詹姆斯·格劳特...     彼得·惠特莫尔   \n1  神谷浩史/井上和彦/伊藤美纪/伊藤荣次/堀江一真/木村良平/菅沼久义/松山鹰志/下崎纮史/冈...  大森贵弘/出合小都美   \n2                                阿尔菲·博/诺姆·刘易斯/马特·卢卡斯      尼克·莫里斯   \n3  张国荣/张丰毅/巩俐/葛优/英达/蒋雯丽/吴大维/吕齐/雷汉/尹治/马明威/费振翔/智一桐/...         陈凯歌   \n4                                神谷浩史/井上和彦/小林沙苗/伊藤美纪  大森贵弘/出合小都美   \n\n   douban_votes    genres languages  duration      regions release_date  \\\n0          3965        喜剧        英语        60           英国   1984/12/17   \n1          5955  剧情/动画/奇幻        日语        23           日本    2017/9/27   \n2          6430        音乐        英语       178           英国    2010/10/3   \n3       1167141  剧情/爱情/同性     汉语普通话       171  中国大陆 / 中国香港     1993/1/1   \n4          5629     剧情/动画        日语        24           日本    2017/3/22   \n\n                                           storyline  \\\n0  Sitcom about a British government minister and...   \n1  2017年4月番《夏目友人帐第六季》开播，作品第四卷BD公布，其中将收录TV开播特别篇《鈴鳴...   \n2  《悲惨世界》是由法国音乐剧作曲家克劳德-米歇尔·勋伯格和阿兰·鲍伯利（Alain Boubl...   \n3  段小楼（张丰毅）与程蝶衣（张国荣）是一对打小一起长大的师兄弟，两人一个演生，一个饰旦，一向配...   \n4  第5期Blu-ray/DVDに収録の新作エピソード。それぞれ前編・後編と、連続したエピソード...   \n\n                                      tags  year  \n0            英剧/喜剧/英国/政治讽刺剧/政治/BBC/经典/黑色幽默  1984  \n1            夏目友人帐/治愈/动漫/日本/动画/温情/日本动画/治愈系  2017  \n2  音乐剧/悲惨世界/英国/经典/音乐/LesMisérables/2010/西区  2010  \n3                  经典/人性/文艺/爱情/人生/同志/剧情/文革  1993  \n4            夏目友人帐/治愈/日本/动漫/动画/日本动画/温情/OVA  2017  ",
      "text/html": "<div>\n<style scoped>\n    .dataframe tbody tr th:only-of-type {\n        vertical-align: middle;\n    }\n\n    .dataframe tbody tr th {\n        vertical-align: top;\n    }\n\n    .dataframe thead th {\n        text-align: right;\n    }\n</style>\n<table border=\"1\" class=\"dataframe\">\n  <thead>\n    <tr style=\"text-align: right;\">\n      <th></th>\n      <th>movie</th>\n      <th>douban_score</th>\n      <th>actors</th>\n      <th>directors</th>\n      <th>douban_votes</th>\n      <th>genres</th>\n      <th>languages</th>\n      <th>duration</th>\n      <th>regions</th>\n      <th>release_date</th>\n      <th>storyline</th>\n      <th>tags</th>\n      <th>year</th>\n    </tr>\n  </thead>\n  <tbody>\n    <tr>\n      <th>0</th>\n      <td>是，大臣 1984圣诞特辑</td>\n      <td>9.8</td>\n      <td>保罗·爱丁顿/奈杰尔·霍桑/德里克·福德斯/戴安娜·霍迪诺特/约翰·内特尔顿/詹姆斯·格劳特...</td>\n      <td>彼得·惠特莫尔</td>\n      <td>3965</td>\n      <td>喜剧</td>\n      <td>英语</td>\n      <td>60</td>\n      <td>英国</td>\n      <td>1984/12/17</td>\n      <td>Sitcom about a British government minister and...</td>\n      <td>英剧/喜剧/英国/政治讽刺剧/政治/BBC/经典/黑色幽默</td>\n      <td>1984</td>\n    </tr>\n    <tr>\n      <th>1</th>\n      <td>夏目友人帐 第六季 特别篇 铃响的残株</td>\n      <td>9.6</td>\n      <td>神谷浩史/井上和彦/伊藤美纪/伊藤荣次/堀江一真/木村良平/菅沼久义/松山鹰志/下崎纮史/冈...</td>\n      <td>大森贵弘/出合小都美</td>\n      <td>5955</td>\n      <td>剧情/动画/奇幻</td>\n      <td>日语</td>\n      <td>23</td>\n      <td>日本</td>\n      <td>2017/9/27</td>\n      <td>2017年4月番《夏目友人帐第六季》开播，作品第四卷BD公布，其中将收录TV开播特别篇《鈴鳴...</td>\n      <td>夏目友人帐/治愈/动漫/日本/动画/温情/日本动画/治愈系</td>\n      <td>2017</td>\n    </tr>\n    <tr>\n      <th>2</th>\n      <td>悲惨世界：25周年纪念演唱会</td>\n      <td>9.6</td>\n      <td>阿尔菲·博/诺姆·刘易斯/马特·卢卡斯</td>\n      <td>尼克·莫里斯</td>\n      <td>6430</td>\n      <td>音乐</td>\n      <td>英语</td>\n      <td>178</td>\n      <td>英国</td>\n      <td>2010/10/3</td>\n      <td>《悲惨世界》是由法国音乐剧作曲家克劳德-米歇尔·勋伯格和阿兰·鲍伯利（Alain Boubl...</td>\n      <td>音乐剧/悲惨世界/英国/经典/音乐/LesMisérables/2010/西区</td>\n      <td>2010</td>\n    </tr>\n    <tr>\n      <th>3</th>\n      <td>霸王别姬</td>\n      <td>9.6</td>\n      <td>张国荣/张丰毅/巩俐/葛优/英达/蒋雯丽/吴大维/吕齐/雷汉/尹治/马明威/费振翔/智一桐/...</td>\n      <td>陈凯歌</td>\n      <td>1167141</td>\n      <td>剧情/爱情/同性</td>\n      <td>汉语普通话</td>\n      <td>171</td>\n      <td>中国大陆 / 中国香港</td>\n      <td>1993/1/1</td>\n      <td>段小楼（张丰毅）与程蝶衣（张国荣）是一对打小一起长大的师兄弟，两人一个演生，一个饰旦，一向配...</td>\n      <td>经典/人性/文艺/爱情/人生/同志/剧情/文革</td>\n      <td>1993</td>\n    </tr>\n    <tr>\n      <th>4</th>\n      <td>夏目友人帐 五 特别篇：一夜酒杯</td>\n      <td>9.5</td>\n      <td>神谷浩史/井上和彦/小林沙苗/伊藤美纪</td>\n      <td>大森贵弘/出合小都美</td>\n      <td>5629</td>\n      <td>剧情/动画</td>\n      <td>日语</td>\n      <td>24</td>\n      <td>日本</td>\n      <td>2017/3/22</td>\n      <td>第5期Blu-ray/DVDに収録の新作エピソード。それぞれ前編・後編と、連続したエピソード...</td>\n      <td>夏目友人帐/治愈/日本/动漫/动画/日本动画/温情/OVA</td>\n      <td>2017</td>\n    </tr>\n  </tbody>\n</table>\n</div>"
     },
     "execution_count": 40,
     "metadata": {},
     "output_type": "execute_result"
    }
   ],
   "source": [
    "movie.head(5)"
   ]
  },
  {
   "cell_type": "code",
   "execution_count": 41,
   "id": "eda9c8d1",
   "metadata": {
    "ExecuteTime": {
     "end_time": "2023-12-20T03:21:54.801274900Z",
     "start_time": "2023-12-20T03:21:54.661395600Z"
    }
   },
   "outputs": [
    {
     "data": {
      "text/plain": "(10559, 13)"
     },
     "execution_count": 41,
     "metadata": {},
     "output_type": "execute_result"
    }
   ],
   "source": [
    "movie.shape"
   ]
  },
  {
   "cell_type": "code",
   "execution_count": 42,
   "id": "0f4f6560",
   "metadata": {
    "ExecuteTime": {
     "end_time": "2023-12-20T03:21:54.822282Z",
     "start_time": "2023-12-20T03:21:54.679022800Z"
    }
   },
   "outputs": [
    {
     "data": {
      "text/plain": "['movie',\n 'douban_score',\n 'actors',\n 'directors',\n 'douban_votes',\n 'genres',\n 'languages',\n 'duration',\n 'regions',\n 'release_date',\n 'storyline',\n 'tags',\n 'year']"
     },
     "execution_count": 42,
     "metadata": {},
     "output_type": "execute_result"
    }
   ],
   "source": [
    "# 类别过多的列\n",
    "# 设置唯一值数量的阈值\n",
    "threshold = 15\n",
    "columns_with_too_many_categories = []\n",
    "# 遍历DataFrame的列\n",
    "for column in movie.columns:\n",
    "    # 计算每个列的唯一值数量\n",
    "    unique_values_count = movie[column].nunique()\n",
    "    # 如果唯一值数量超过阈值，则将该列添加到列表中\n",
    "    if unique_values_count > threshold:\n",
    "        columns_with_too_many_categories.append(column)\n",
    "\n",
    "columns_with_too_many_categories"
   ]
  },
  {
   "cell_type": "code",
   "execution_count": 43,
   "id": "8e778919",
   "metadata": {
    "ExecuteTime": {
     "end_time": "2023-12-20T03:21:54.823275100Z",
     "start_time": "2023-12-20T03:21:54.727641Z"
    }
   },
   "outputs": [
    {
     "data": {
      "text/plain": "Index(['movie', 'actors', 'directors', 'genres', 'languages', 'regions',\n       'release_date', 'storyline', 'tags'],\n      dtype='object')"
     },
     "execution_count": 43,
     "metadata": {},
     "output_type": "execute_result"
    }
   ],
   "source": [
    "# 非数值类型列\n",
    "non_numeric_columns = movie.select_dtypes(exclude=['number'])\n",
    "non_numeric_columns.columns"
   ]
  },
  {
   "cell_type": "code",
   "execution_count": 44,
   "id": "aac86e02",
   "metadata": {
    "ExecuteTime": {
     "end_time": "2023-12-20T03:21:54.823275100Z",
     "start_time": "2023-12-20T03:21:54.742643Z"
    }
   },
   "outputs": [],
   "source": [
    "# 去掉无用的列\n",
    "df = movie.drop(columns= list(set(non_numeric_columns.columns) & set(columns_with_too_many_categories)))\n",
    "df['genres'] = movie['genres']"
   ]
  },
  {
   "cell_type": "code",
   "execution_count": 45,
   "id": "9b942bb0",
   "metadata": {
    "ExecuteTime": {
     "end_time": "2023-12-20T03:21:54.824274500Z",
     "start_time": "2023-12-20T03:21:54.761641900Z"
    }
   },
   "outputs": [
    {
     "data": {
      "text/plain": "       douban_score  douban_votes  duration  year    genres\n0               9.8          3965        60  1984        喜剧\n1               9.6          5955        23  2017  剧情/动画/奇幻\n2               9.6          6430       178  2010        音乐\n3               9.6       1167141       171  1993  剧情/爱情/同性\n4               9.5          5629        24  2017     剧情/动画\n...             ...           ...       ...   ...       ...\n10554           6.5          1903        98  2015     剧情/喜剧\n10555           6.5           142       121  2014        剧情\n10556           6.5           102        88  2014     剧情/爱情\n10557           6.5          9343        96  2014  剧情/爱情/音乐\n10558           6.5           174       116  2014        剧情\n\n[10559 rows x 5 columns]",
      "text/html": "<div>\n<style scoped>\n    .dataframe tbody tr th:only-of-type {\n        vertical-align: middle;\n    }\n\n    .dataframe tbody tr th {\n        vertical-align: top;\n    }\n\n    .dataframe thead th {\n        text-align: right;\n    }\n</style>\n<table border=\"1\" class=\"dataframe\">\n  <thead>\n    <tr style=\"text-align: right;\">\n      <th></th>\n      <th>douban_score</th>\n      <th>douban_votes</th>\n      <th>duration</th>\n      <th>year</th>\n      <th>genres</th>\n    </tr>\n  </thead>\n  <tbody>\n    <tr>\n      <th>0</th>\n      <td>9.8</td>\n      <td>3965</td>\n      <td>60</td>\n      <td>1984</td>\n      <td>喜剧</td>\n    </tr>\n    <tr>\n      <th>1</th>\n      <td>9.6</td>\n      <td>5955</td>\n      <td>23</td>\n      <td>2017</td>\n      <td>剧情/动画/奇幻</td>\n    </tr>\n    <tr>\n      <th>2</th>\n      <td>9.6</td>\n      <td>6430</td>\n      <td>178</td>\n      <td>2010</td>\n      <td>音乐</td>\n    </tr>\n    <tr>\n      <th>3</th>\n      <td>9.6</td>\n      <td>1167141</td>\n      <td>171</td>\n      <td>1993</td>\n      <td>剧情/爱情/同性</td>\n    </tr>\n    <tr>\n      <th>4</th>\n      <td>9.5</td>\n      <td>5629</td>\n      <td>24</td>\n      <td>2017</td>\n      <td>剧情/动画</td>\n    </tr>\n    <tr>\n      <th>...</th>\n      <td>...</td>\n      <td>...</td>\n      <td>...</td>\n      <td>...</td>\n      <td>...</td>\n    </tr>\n    <tr>\n      <th>10554</th>\n      <td>6.5</td>\n      <td>1903</td>\n      <td>98</td>\n      <td>2015</td>\n      <td>剧情/喜剧</td>\n    </tr>\n    <tr>\n      <th>10555</th>\n      <td>6.5</td>\n      <td>142</td>\n      <td>121</td>\n      <td>2014</td>\n      <td>剧情</td>\n    </tr>\n    <tr>\n      <th>10556</th>\n      <td>6.5</td>\n      <td>102</td>\n      <td>88</td>\n      <td>2014</td>\n      <td>剧情/爱情</td>\n    </tr>\n    <tr>\n      <th>10557</th>\n      <td>6.5</td>\n      <td>9343</td>\n      <td>96</td>\n      <td>2014</td>\n      <td>剧情/爱情/音乐</td>\n    </tr>\n    <tr>\n      <th>10558</th>\n      <td>6.5</td>\n      <td>174</td>\n      <td>116</td>\n      <td>2014</td>\n      <td>剧情</td>\n    </tr>\n  </tbody>\n</table>\n<p>10559 rows × 5 columns</p>\n</div>"
     },
     "execution_count": 45,
     "metadata": {},
     "output_type": "execute_result"
    }
   ],
   "source": [
    "# 初步处理完的数据\n",
    "df"
   ]
  },
  {
   "cell_type": "code",
   "execution_count": 46,
   "id": "eee198b3",
   "metadata": {
    "ExecuteTime": {
     "end_time": "2023-12-20T03:21:54.825271900Z",
     "start_time": "2023-12-20T03:21:54.773639800Z"
    }
   },
   "outputs": [
    {
     "name": "stdout",
     "output_type": "stream",
     "text": [
      "<class 'pandas.core.frame.DataFrame'>\n",
      "RangeIndex: 10559 entries, 0 to 10558\n",
      "Data columns (total 5 columns):\n",
      " #   Column        Non-Null Count  Dtype  \n",
      "---  ------        --------------  -----  \n",
      " 0   douban_score  10559 non-null  float64\n",
      " 1   douban_votes  10559 non-null  int64  \n",
      " 2   duration      10559 non-null  int64  \n",
      " 3   year          10559 non-null  int64  \n",
      " 4   genres        10559 non-null  object \n",
      "dtypes: float64(1), int64(3), object(1)\n",
      "memory usage: 412.6+ KB\n"
     ]
    }
   ],
   "source": [
    "df.info()"
   ]
  },
  {
   "cell_type": "code",
   "execution_count": 47,
   "id": "5d51080f",
   "metadata": {
    "ExecuteTime": {
     "end_time": "2023-12-20T03:21:54.861269900Z",
     "start_time": "2023-12-20T03:21:54.794274500Z"
    }
   },
   "outputs": [],
   "source": [
    "# 缺失值填充\n",
    "# 类别类用null填充\n",
    "non_numeric_columns = df.select_dtypes(exclude=['number'])\n",
    "df[list(non_numeric_columns.columns)] = df[list(non_numeric_columns.columns)].fillna('null')\n",
    "# 数值用均值填充\n",
    "numeric_columns = [col for col in list(df.columns) if col not in list(non_numeric_columns.columns)]\n",
    "df[numeric_columns] = df[numeric_columns].fillna(df[numeric_columns].mean())"
   ]
  },
  {
   "cell_type": "code",
   "execution_count": 48,
   "id": "d532bc2e",
   "metadata": {
    "ExecuteTime": {
     "end_time": "2023-12-20T03:21:57.046311900Z",
     "start_time": "2023-12-20T03:21:54.820282300Z"
    }
   },
   "outputs": [],
   "source": [
    "# 处理流派\n",
    "genres_dummies = df['genres'].str.get_dummies('|')\n",
    "df = pd.concat([df, genres_dummies], axis=1)"
   ]
  },
  {
   "cell_type": "code",
   "execution_count": 49,
   "id": "87b86284",
   "metadata": {
    "ExecuteTime": {
     "end_time": "2023-12-20T03:21:57.048316300Z",
     "start_time": "2023-12-20T03:21:57.042311500Z"
    }
   },
   "outputs": [
    {
     "data": {
      "text/plain": "       douban_score  douban_votes  duration  year    genres  Comedy  传记  \\\n0               9.8          3965        60  1984        喜剧       0   0   \n1               9.6          5955        23  2017  剧情/动画/奇幻       0   0   \n2               9.6          6430       178  2010        音乐       0   0   \n3               9.6       1167141       171  1993  剧情/爱情/同性       0   0   \n4               9.5          5629        24  2017     剧情/动画       0   0   \n...             ...           ...       ...   ...       ...     ...  ..   \n10554           6.5          1903        98  2015     剧情/喜剧       0   0   \n10555           6.5           142       121  2014        剧情       0   0   \n10556           6.5           102        88  2014     剧情/爱情       0   0   \n10557           6.5          9343        96  2014  剧情/爱情/音乐       0   0   \n10558           6.5           174       116  2014        剧情       0   0   \n\n       传记/历史/古装  传记/古装/戏曲  传记/西部  ...  纪录片/家庭  西部/奇幻/冒险  音乐  音乐/传记  音乐/儿童  \\\n0             0         0      0  ...       0         0   0      0      0   \n1             0         0      0  ...       0         0   0      0      0   \n2             0         0      0  ...       0         0   1      0      0   \n3             0         0      0  ...       0         0   0      0      0   \n4             0         0      0  ...       0         0   0      0      0   \n...         ...       ...    ...  ...     ...       ...  ..    ...    ...   \n10554         0         0      0  ...       0         0   0      0      0   \n10555         0         0      0  ...       0         0   0      0      0   \n10556         0         0      0  ...       0         0   0      0      0   \n10557         0         0      0  ...       0         0   0      0      0   \n10558         0         0      0  ...       0         0   0      0      0   \n\n       音乐/儿童/古装  音乐/歌舞  音乐/歌舞/家庭/传记  音乐/歌舞/真人秀  音乐/真人秀  \n0             0      0            0          0       0  \n1             0      0            0          0       0  \n2             0      0            0          0       0  \n3             0      0            0          0       0  \n4             0      0            0          0       0  \n...         ...    ...          ...        ...     ...  \n10554         0      0            0          0       0  \n10555         0      0            0          0       0  \n10556         0      0            0          0       0  \n10557         0      0            0          0       0  \n10558         0      0            0          0       0  \n\n[10559 rows x 1206 columns]",
      "text/html": "<div>\n<style scoped>\n    .dataframe tbody tr th:only-of-type {\n        vertical-align: middle;\n    }\n\n    .dataframe tbody tr th {\n        vertical-align: top;\n    }\n\n    .dataframe thead th {\n        text-align: right;\n    }\n</style>\n<table border=\"1\" class=\"dataframe\">\n  <thead>\n    <tr style=\"text-align: right;\">\n      <th></th>\n      <th>douban_score</th>\n      <th>douban_votes</th>\n      <th>duration</th>\n      <th>year</th>\n      <th>genres</th>\n      <th>Comedy</th>\n      <th>传记</th>\n      <th>传记/历史/古装</th>\n      <th>传记/古装/戏曲</th>\n      <th>传记/西部</th>\n      <th>...</th>\n      <th>纪录片/家庭</th>\n      <th>西部/奇幻/冒险</th>\n      <th>音乐</th>\n      <th>音乐/传记</th>\n      <th>音乐/儿童</th>\n      <th>音乐/儿童/古装</th>\n      <th>音乐/歌舞</th>\n      <th>音乐/歌舞/家庭/传记</th>\n      <th>音乐/歌舞/真人秀</th>\n      <th>音乐/真人秀</th>\n    </tr>\n  </thead>\n  <tbody>\n    <tr>\n      <th>0</th>\n      <td>9.8</td>\n      <td>3965</td>\n      <td>60</td>\n      <td>1984</td>\n      <td>喜剧</td>\n      <td>0</td>\n      <td>0</td>\n      <td>0</td>\n      <td>0</td>\n      <td>0</td>\n      <td>...</td>\n      <td>0</td>\n      <td>0</td>\n      <td>0</td>\n      <td>0</td>\n      <td>0</td>\n      <td>0</td>\n      <td>0</td>\n      <td>0</td>\n      <td>0</td>\n      <td>0</td>\n    </tr>\n    <tr>\n      <th>1</th>\n      <td>9.6</td>\n      <td>5955</td>\n      <td>23</td>\n      <td>2017</td>\n      <td>剧情/动画/奇幻</td>\n      <td>0</td>\n      <td>0</td>\n      <td>0</td>\n      <td>0</td>\n      <td>0</td>\n      <td>...</td>\n      <td>0</td>\n      <td>0</td>\n      <td>0</td>\n      <td>0</td>\n      <td>0</td>\n      <td>0</td>\n      <td>0</td>\n      <td>0</td>\n      <td>0</td>\n      <td>0</td>\n    </tr>\n    <tr>\n      <th>2</th>\n      <td>9.6</td>\n      <td>6430</td>\n      <td>178</td>\n      <td>2010</td>\n      <td>音乐</td>\n      <td>0</td>\n      <td>0</td>\n      <td>0</td>\n      <td>0</td>\n      <td>0</td>\n      <td>...</td>\n      <td>0</td>\n      <td>0</td>\n      <td>1</td>\n      <td>0</td>\n      <td>0</td>\n      <td>0</td>\n      <td>0</td>\n      <td>0</td>\n      <td>0</td>\n      <td>0</td>\n    </tr>\n    <tr>\n      <th>3</th>\n      <td>9.6</td>\n      <td>1167141</td>\n      <td>171</td>\n      <td>1993</td>\n      <td>剧情/爱情/同性</td>\n      <td>0</td>\n      <td>0</td>\n      <td>0</td>\n      <td>0</td>\n      <td>0</td>\n      <td>...</td>\n      <td>0</td>\n      <td>0</td>\n      <td>0</td>\n      <td>0</td>\n      <td>0</td>\n      <td>0</td>\n      <td>0</td>\n      <td>0</td>\n      <td>0</td>\n      <td>0</td>\n    </tr>\n    <tr>\n      <th>4</th>\n      <td>9.5</td>\n      <td>5629</td>\n      <td>24</td>\n      <td>2017</td>\n      <td>剧情/动画</td>\n      <td>0</td>\n      <td>0</td>\n      <td>0</td>\n      <td>0</td>\n      <td>0</td>\n      <td>...</td>\n      <td>0</td>\n      <td>0</td>\n      <td>0</td>\n      <td>0</td>\n      <td>0</td>\n      <td>0</td>\n      <td>0</td>\n      <td>0</td>\n      <td>0</td>\n      <td>0</td>\n    </tr>\n    <tr>\n      <th>...</th>\n      <td>...</td>\n      <td>...</td>\n      <td>...</td>\n      <td>...</td>\n      <td>...</td>\n      <td>...</td>\n      <td>...</td>\n      <td>...</td>\n      <td>...</td>\n      <td>...</td>\n      <td>...</td>\n      <td>...</td>\n      <td>...</td>\n      <td>...</td>\n      <td>...</td>\n      <td>...</td>\n      <td>...</td>\n      <td>...</td>\n      <td>...</td>\n      <td>...</td>\n      <td>...</td>\n    </tr>\n    <tr>\n      <th>10554</th>\n      <td>6.5</td>\n      <td>1903</td>\n      <td>98</td>\n      <td>2015</td>\n      <td>剧情/喜剧</td>\n      <td>0</td>\n      <td>0</td>\n      <td>0</td>\n      <td>0</td>\n      <td>0</td>\n      <td>...</td>\n      <td>0</td>\n      <td>0</td>\n      <td>0</td>\n      <td>0</td>\n      <td>0</td>\n      <td>0</td>\n      <td>0</td>\n      <td>0</td>\n      <td>0</td>\n      <td>0</td>\n    </tr>\n    <tr>\n      <th>10555</th>\n      <td>6.5</td>\n      <td>142</td>\n      <td>121</td>\n      <td>2014</td>\n      <td>剧情</td>\n      <td>0</td>\n      <td>0</td>\n      <td>0</td>\n      <td>0</td>\n      <td>0</td>\n      <td>...</td>\n      <td>0</td>\n      <td>0</td>\n      <td>0</td>\n      <td>0</td>\n      <td>0</td>\n      <td>0</td>\n      <td>0</td>\n      <td>0</td>\n      <td>0</td>\n      <td>0</td>\n    </tr>\n    <tr>\n      <th>10556</th>\n      <td>6.5</td>\n      <td>102</td>\n      <td>88</td>\n      <td>2014</td>\n      <td>剧情/爱情</td>\n      <td>0</td>\n      <td>0</td>\n      <td>0</td>\n      <td>0</td>\n      <td>0</td>\n      <td>...</td>\n      <td>0</td>\n      <td>0</td>\n      <td>0</td>\n      <td>0</td>\n      <td>0</td>\n      <td>0</td>\n      <td>0</td>\n      <td>0</td>\n      <td>0</td>\n      <td>0</td>\n    </tr>\n    <tr>\n      <th>10557</th>\n      <td>6.5</td>\n      <td>9343</td>\n      <td>96</td>\n      <td>2014</td>\n      <td>剧情/爱情/音乐</td>\n      <td>0</td>\n      <td>0</td>\n      <td>0</td>\n      <td>0</td>\n      <td>0</td>\n      <td>...</td>\n      <td>0</td>\n      <td>0</td>\n      <td>0</td>\n      <td>0</td>\n      <td>0</td>\n      <td>0</td>\n      <td>0</td>\n      <td>0</td>\n      <td>0</td>\n      <td>0</td>\n    </tr>\n    <tr>\n      <th>10558</th>\n      <td>6.5</td>\n      <td>174</td>\n      <td>116</td>\n      <td>2014</td>\n      <td>剧情</td>\n      <td>0</td>\n      <td>0</td>\n      <td>0</td>\n      <td>0</td>\n      <td>0</td>\n      <td>...</td>\n      <td>0</td>\n      <td>0</td>\n      <td>0</td>\n      <td>0</td>\n      <td>0</td>\n      <td>0</td>\n      <td>0</td>\n      <td>0</td>\n      <td>0</td>\n      <td>0</td>\n    </tr>\n  </tbody>\n</table>\n<p>10559 rows × 1206 columns</p>\n</div>"
     },
     "execution_count": 49,
     "metadata": {},
     "output_type": "execute_result"
    }
   ],
   "source": [
    "df"
   ]
  },
  {
   "cell_type": "code",
   "execution_count": 50,
   "id": "949d0cd6",
   "metadata": {
    "ExecuteTime": {
     "end_time": "2023-12-20T03:21:57.070312700Z",
     "start_time": "2023-12-20T03:21:57.042311500Z"
    }
   },
   "outputs": [
    {
     "data": {
      "text/plain": "                  movie  douban_score\n0         是，大臣 1984圣诞特辑           9.8\n2        悲惨世界：25周年纪念演唱会           9.6\n3                  霸王别姬           9.6\n1   夏目友人帐 第六季 特别篇 铃响的残株           9.6\n4      夏目友人帐 五 特别篇：一夜酒杯           9.5\n5                  平安结祈           9.5\n6               大雄的怀念奶奶           9.5\n7                辛德勒的名单           9.5\n8           北国之恋：1987初恋           9.5\n9                  控方证人           9.5\n10            十二怒汉（电视版）           9.5\n15                弗兰肯斯坦           9.4\n18                 十二怒汉           9.4\n17              背靠背，脸对脸           9.4\n16                 灿烂人生           9.4\n12       唐顿庄园：2015圣诞特别篇           9.4\n14          五位(还嫌少)博士重启           9.4\n13             跳出我天地音乐剧           9.4\n11          黄子华栋笃笑之金盘𠺘口           9.4\n25            幕后危机(特别版)           9.3",
      "text/html": "<div>\n<style scoped>\n    .dataframe tbody tr th:only-of-type {\n        vertical-align: middle;\n    }\n\n    .dataframe tbody tr th {\n        vertical-align: top;\n    }\n\n    .dataframe thead th {\n        text-align: right;\n    }\n</style>\n<table border=\"1\" class=\"dataframe\">\n  <thead>\n    <tr style=\"text-align: right;\">\n      <th></th>\n      <th>movie</th>\n      <th>douban_score</th>\n    </tr>\n  </thead>\n  <tbody>\n    <tr>\n      <th>0</th>\n      <td>是，大臣 1984圣诞特辑</td>\n      <td>9.8</td>\n    </tr>\n    <tr>\n      <th>2</th>\n      <td>悲惨世界：25周年纪念演唱会</td>\n      <td>9.6</td>\n    </tr>\n    <tr>\n      <th>3</th>\n      <td>霸王别姬</td>\n      <td>9.6</td>\n    </tr>\n    <tr>\n      <th>1</th>\n      <td>夏目友人帐 第六季 特别篇 铃响的残株</td>\n      <td>9.6</td>\n    </tr>\n    <tr>\n      <th>4</th>\n      <td>夏目友人帐 五 特别篇：一夜酒杯</td>\n      <td>9.5</td>\n    </tr>\n    <tr>\n      <th>5</th>\n      <td>平安结祈</td>\n      <td>9.5</td>\n    </tr>\n    <tr>\n      <th>6</th>\n      <td>大雄的怀念奶奶</td>\n      <td>9.5</td>\n    </tr>\n    <tr>\n      <th>7</th>\n      <td>辛德勒的名单</td>\n      <td>9.5</td>\n    </tr>\n    <tr>\n      <th>8</th>\n      <td>北国之恋：1987初恋</td>\n      <td>9.5</td>\n    </tr>\n    <tr>\n      <th>9</th>\n      <td>控方证人</td>\n      <td>9.5</td>\n    </tr>\n    <tr>\n      <th>10</th>\n      <td>十二怒汉（电视版）</td>\n      <td>9.5</td>\n    </tr>\n    <tr>\n      <th>15</th>\n      <td>弗兰肯斯坦</td>\n      <td>9.4</td>\n    </tr>\n    <tr>\n      <th>18</th>\n      <td>十二怒汉</td>\n      <td>9.4</td>\n    </tr>\n    <tr>\n      <th>17</th>\n      <td>背靠背，脸对脸</td>\n      <td>9.4</td>\n    </tr>\n    <tr>\n      <th>16</th>\n      <td>灿烂人生</td>\n      <td>9.4</td>\n    </tr>\n    <tr>\n      <th>12</th>\n      <td>唐顿庄园：2015圣诞特别篇</td>\n      <td>9.4</td>\n    </tr>\n    <tr>\n      <th>14</th>\n      <td>五位(还嫌少)博士重启</td>\n      <td>9.4</td>\n    </tr>\n    <tr>\n      <th>13</th>\n      <td>跳出我天地音乐剧</td>\n      <td>9.4</td>\n    </tr>\n    <tr>\n      <th>11</th>\n      <td>黄子华栋笃笑之金盘𠺘口</td>\n      <td>9.4</td>\n    </tr>\n    <tr>\n      <th>25</th>\n      <td>幕后危机(特别版)</td>\n      <td>9.3</td>\n    </tr>\n  </tbody>\n</table>\n</div>"
     },
     "execution_count": 50,
     "metadata": {},
     "output_type": "execute_result"
    }
   ],
   "source": [
    "movie_score_20 = movie.sort_values(['douban_score'],ascending=False).head(20)\n",
    "movie_score_20[['movie','douban_score']]"
   ]
  },
  {
   "cell_type": "code",
   "execution_count": 51,
   "id": "43a6ba9d",
   "metadata": {
    "ExecuteTime": {
     "end_time": "2023-12-20T03:21:57.149981Z",
     "start_time": "2023-12-20T03:21:57.067318100Z"
    }
   },
   "outputs": [],
   "source": [
    "import matplotlib.pyplot as plt\n",
    "import matplotlib\n",
    "matplotlib.rcParams['font.family']='SimHei'"
   ]
  },
  {
   "cell_type": "code",
   "execution_count": 52,
   "id": "1021aa35",
   "metadata": {
    "ExecuteTime": {
     "end_time": "2023-12-20T03:21:58.690107Z",
     "start_time": "2023-12-20T03:21:57.083314600Z"
    }
   },
   "outputs": [],
   "source": [
    "# 对类别的列进行编码\n",
    "from sklearn.preprocessing import LabelEncoder\n",
    "non_numeric_columns = df.select_dtypes(exclude=['number'])\n",
    "for fea in list(non_numeric_columns.columns):\n",
    "    label_encoder = LabelEncoder()\n",
    "    df[fea] = label_encoder.fit_transform(df[fea])"
   ]
  },
  {
   "cell_type": "code",
   "execution_count": 53,
   "id": "7d50112e",
   "metadata": {
    "ExecuteTime": {
     "end_time": "2023-12-20T03:21:58.707114500Z",
     "start_time": "2023-12-20T03:21:58.685111500Z"
    }
   },
   "outputs": [
    {
     "data": {
      "text/plain": "count    10559.000000\nmean         7.452713\nstd          0.604841\nmin          6.500000\n25%          7.000000\n50%          7.400000\n75%          7.800000\nmax          9.800000\nName: douban_score, dtype: float64"
     },
     "execution_count": 53,
     "metadata": {},
     "output_type": "execute_result"
    }
   ],
   "source": [
    "df['douban_score'].describe()"
   ]
  },
  {
   "cell_type": "code",
   "execution_count": 54,
   "id": "39897e9a",
   "metadata": {
    "ExecuteTime": {
     "end_time": "2023-12-20T03:22:00.470471400Z",
     "start_time": "2023-12-20T03:21:58.702115300Z"
    }
   },
   "outputs": [],
   "source": [
    "import pandas as pd\n",
    "import numpy as np\n",
    "from sklearn.model_selection import train_test_split\n",
    "from sklearn.ensemble import RandomForestRegressor\n",
    "from sklearn.tree import DecisionTreeRegressor\n",
    "from sklearn.linear_model import LinearRegression\n",
    "from xgboost import XGBRegressor\n",
    "from lightgbm import LGBMRegressor\n",
    "from catboost import CatBoostRegressor\n",
    "from sklearn.metrics import mean_squared_error, mean_absolute_error, r2_score\n",
    "import numpy as np"
   ]
  },
  {
   "cell_type": "code",
   "execution_count": 55,
   "id": "42e2cf1e",
   "metadata": {
    "ExecuteTime": {
     "end_time": "2023-12-20T03:22:00.566176800Z",
     "start_time": "2023-12-20T03:22:00.505484Z"
    }
   },
   "outputs": [],
   "source": [
    "X = df.drop(['douban_score'], axis=1)  # 特征\n",
    "y = df['douban_score']  # 目标变量\n",
    "X_train, X_test, y_train, y_test = train_test_split(X, y, test_size=0.2, random_state=42,shuffle=False)"
   ]
  },
  {
   "cell_type": "code",
   "execution_count": 56,
   "id": "053a9256",
   "metadata": {
    "ExecuteTime": {
     "end_time": "2023-12-20T03:22:20.821728700Z",
     "start_time": "2023-12-20T03:22:00.574183200Z"
    }
   },
   "outputs": [
    {
     "name": "stderr",
     "output_type": "stream",
     "text": [
      "C:\\Users\\dong\\AppData\\Local\\Temp/ipykernel_16656/1979580347.py:3: SettingWithCopyWarning: \n",
      "A value is trying to be set on a copy of a slice from a DataFrame.\n",
      "Try using .loc[row_indexer,col_indexer] = value instead\n",
      "\n",
      "See the caveats in the documentation: https://pandas.pydata.org/pandas-docs/stable/user_guide/indexing.html#returning-a-view-versus-a-copy\n",
      "  X_test['随机森林模型预测评分'] = rf_regressor.predict(X_test)\n"
     ]
    },
    {
     "data": {
      "text/plain": "       douban_votes  duration  year  genres  Comedy  传记  传记/历史/古装  传记/古装/戏曲  \\\n8447            438       106  1975      30       0   0         0         0   \n8448            869       100  1975    1161       0   0         0         0   \n8449            923       117  1975      69       0   0         0         0   \n8450            168        83  1974     218       0   0         0         0   \n8451             76       110  1974       5       0   0         0         0   \n...             ...       ...   ...     ...     ...  ..       ...       ...   \n10554          1903        98  2015     195       0   0         0         0   \n10555           142       121  2014       5       0   0         0         0   \n10556           102        88  2014     452       0   0         0         0   \n10557          9343        96  2014     548       0   0         0         0   \n10558           174       116  2014       5       0   0         0         0   \n\n       传记/西部  剧情  ...  西部/奇幻/冒险  音乐  音乐/传记  音乐/儿童  音乐/儿童/古装  音乐/歌舞  \\\n8447       0   0  ...         0   0      0      0         0      0   \n8448       0   0  ...         0   0      0      0         0      0   \n8449       0   0  ...         0   0      0      0         0      0   \n8450       0   0  ...         0   0      0      0         0      0   \n8451       0   1  ...         0   0      0      0         0      0   \n...      ...  ..  ...       ...  ..    ...    ...       ...    ...   \n10554      0   0  ...         0   0      0      0         0      0   \n10555      0   1  ...         0   0      0      0         0      0   \n10556      0   0  ...         0   0      0      0         0      0   \n10557      0   0  ...         0   0      0      0         0      0   \n10558      0   1  ...         0   0      0      0         0      0   \n\n       音乐/歌舞/家庭/传记  音乐/歌舞/真人秀  音乐/真人秀  随机森林模型预测评分  \n8447             0          0       0       7.446  \n8448             0          0       0       7.530  \n8449             0          0       0       7.648  \n8450             0          0       0       7.377  \n8451             0          0       0       7.445  \n...            ...        ...     ...         ...  \n10554            0          0       0       7.348  \n10555            0          0       0       7.213  \n10556            0          0       0       7.621  \n10557            0          0       0       7.442  \n10558            0          0       0       7.465  \n\n[2112 rows x 1206 columns]",
      "text/html": "<div>\n<style scoped>\n    .dataframe tbody tr th:only-of-type {\n        vertical-align: middle;\n    }\n\n    .dataframe tbody tr th {\n        vertical-align: top;\n    }\n\n    .dataframe thead th {\n        text-align: right;\n    }\n</style>\n<table border=\"1\" class=\"dataframe\">\n  <thead>\n    <tr style=\"text-align: right;\">\n      <th></th>\n      <th>douban_votes</th>\n      <th>duration</th>\n      <th>year</th>\n      <th>genres</th>\n      <th>Comedy</th>\n      <th>传记</th>\n      <th>传记/历史/古装</th>\n      <th>传记/古装/戏曲</th>\n      <th>传记/西部</th>\n      <th>剧情</th>\n      <th>...</th>\n      <th>西部/奇幻/冒险</th>\n      <th>音乐</th>\n      <th>音乐/传记</th>\n      <th>音乐/儿童</th>\n      <th>音乐/儿童/古装</th>\n      <th>音乐/歌舞</th>\n      <th>音乐/歌舞/家庭/传记</th>\n      <th>音乐/歌舞/真人秀</th>\n      <th>音乐/真人秀</th>\n      <th>随机森林模型预测评分</th>\n    </tr>\n  </thead>\n  <tbody>\n    <tr>\n      <th>8447</th>\n      <td>438</td>\n      <td>106</td>\n      <td>1975</td>\n      <td>30</td>\n      <td>0</td>\n      <td>0</td>\n      <td>0</td>\n      <td>0</td>\n      <td>0</td>\n      <td>0</td>\n      <td>...</td>\n      <td>0</td>\n      <td>0</td>\n      <td>0</td>\n      <td>0</td>\n      <td>0</td>\n      <td>0</td>\n      <td>0</td>\n      <td>0</td>\n      <td>0</td>\n      <td>7.446</td>\n    </tr>\n    <tr>\n      <th>8448</th>\n      <td>869</td>\n      <td>100</td>\n      <td>1975</td>\n      <td>1161</td>\n      <td>0</td>\n      <td>0</td>\n      <td>0</td>\n      <td>0</td>\n      <td>0</td>\n      <td>0</td>\n      <td>...</td>\n      <td>0</td>\n      <td>0</td>\n      <td>0</td>\n      <td>0</td>\n      <td>0</td>\n      <td>0</td>\n      <td>0</td>\n      <td>0</td>\n      <td>0</td>\n      <td>7.530</td>\n    </tr>\n    <tr>\n      <th>8449</th>\n      <td>923</td>\n      <td>117</td>\n      <td>1975</td>\n      <td>69</td>\n      <td>0</td>\n      <td>0</td>\n      <td>0</td>\n      <td>0</td>\n      <td>0</td>\n      <td>0</td>\n      <td>...</td>\n      <td>0</td>\n      <td>0</td>\n      <td>0</td>\n      <td>0</td>\n      <td>0</td>\n      <td>0</td>\n      <td>0</td>\n      <td>0</td>\n      <td>0</td>\n      <td>7.648</td>\n    </tr>\n    <tr>\n      <th>8450</th>\n      <td>168</td>\n      <td>83</td>\n      <td>1974</td>\n      <td>218</td>\n      <td>0</td>\n      <td>0</td>\n      <td>0</td>\n      <td>0</td>\n      <td>0</td>\n      <td>0</td>\n      <td>...</td>\n      <td>0</td>\n      <td>0</td>\n      <td>0</td>\n      <td>0</td>\n      <td>0</td>\n      <td>0</td>\n      <td>0</td>\n      <td>0</td>\n      <td>0</td>\n      <td>7.377</td>\n    </tr>\n    <tr>\n      <th>8451</th>\n      <td>76</td>\n      <td>110</td>\n      <td>1974</td>\n      <td>5</td>\n      <td>0</td>\n      <td>0</td>\n      <td>0</td>\n      <td>0</td>\n      <td>0</td>\n      <td>1</td>\n      <td>...</td>\n      <td>0</td>\n      <td>0</td>\n      <td>0</td>\n      <td>0</td>\n      <td>0</td>\n      <td>0</td>\n      <td>0</td>\n      <td>0</td>\n      <td>0</td>\n      <td>7.445</td>\n    </tr>\n    <tr>\n      <th>...</th>\n      <td>...</td>\n      <td>...</td>\n      <td>...</td>\n      <td>...</td>\n      <td>...</td>\n      <td>...</td>\n      <td>...</td>\n      <td>...</td>\n      <td>...</td>\n      <td>...</td>\n      <td>...</td>\n      <td>...</td>\n      <td>...</td>\n      <td>...</td>\n      <td>...</td>\n      <td>...</td>\n      <td>...</td>\n      <td>...</td>\n      <td>...</td>\n      <td>...</td>\n      <td>...</td>\n    </tr>\n    <tr>\n      <th>10554</th>\n      <td>1903</td>\n      <td>98</td>\n      <td>2015</td>\n      <td>195</td>\n      <td>0</td>\n      <td>0</td>\n      <td>0</td>\n      <td>0</td>\n      <td>0</td>\n      <td>0</td>\n      <td>...</td>\n      <td>0</td>\n      <td>0</td>\n      <td>0</td>\n      <td>0</td>\n      <td>0</td>\n      <td>0</td>\n      <td>0</td>\n      <td>0</td>\n      <td>0</td>\n      <td>7.348</td>\n    </tr>\n    <tr>\n      <th>10555</th>\n      <td>142</td>\n      <td>121</td>\n      <td>2014</td>\n      <td>5</td>\n      <td>0</td>\n      <td>0</td>\n      <td>0</td>\n      <td>0</td>\n      <td>0</td>\n      <td>1</td>\n      <td>...</td>\n      <td>0</td>\n      <td>0</td>\n      <td>0</td>\n      <td>0</td>\n      <td>0</td>\n      <td>0</td>\n      <td>0</td>\n      <td>0</td>\n      <td>0</td>\n      <td>7.213</td>\n    </tr>\n    <tr>\n      <th>10556</th>\n      <td>102</td>\n      <td>88</td>\n      <td>2014</td>\n      <td>452</td>\n      <td>0</td>\n      <td>0</td>\n      <td>0</td>\n      <td>0</td>\n      <td>0</td>\n      <td>0</td>\n      <td>...</td>\n      <td>0</td>\n      <td>0</td>\n      <td>0</td>\n      <td>0</td>\n      <td>0</td>\n      <td>0</td>\n      <td>0</td>\n      <td>0</td>\n      <td>0</td>\n      <td>7.621</td>\n    </tr>\n    <tr>\n      <th>10557</th>\n      <td>9343</td>\n      <td>96</td>\n      <td>2014</td>\n      <td>548</td>\n      <td>0</td>\n      <td>0</td>\n      <td>0</td>\n      <td>0</td>\n      <td>0</td>\n      <td>0</td>\n      <td>...</td>\n      <td>0</td>\n      <td>0</td>\n      <td>0</td>\n      <td>0</td>\n      <td>0</td>\n      <td>0</td>\n      <td>0</td>\n      <td>0</td>\n      <td>0</td>\n      <td>7.442</td>\n    </tr>\n    <tr>\n      <th>10558</th>\n      <td>174</td>\n      <td>116</td>\n      <td>2014</td>\n      <td>5</td>\n      <td>0</td>\n      <td>0</td>\n      <td>0</td>\n      <td>0</td>\n      <td>0</td>\n      <td>1</td>\n      <td>...</td>\n      <td>0</td>\n      <td>0</td>\n      <td>0</td>\n      <td>0</td>\n      <td>0</td>\n      <td>0</td>\n      <td>0</td>\n      <td>0</td>\n      <td>0</td>\n      <td>7.465</td>\n    </tr>\n  </tbody>\n</table>\n<p>2112 rows × 1206 columns</p>\n</div>"
     },
     "execution_count": 56,
     "metadata": {},
     "output_type": "execute_result"
    }
   ],
   "source": [
    "rf_regressor = RandomForestRegressor(n_estimators=100, random_state=42)\n",
    "rf_regressor.fit(X_train, y_train)\n",
    "X_test['随机森林模型预测评分'] = rf_regressor.predict(X_test)\n",
    "X_test"
   ]
  },
  {
   "cell_type": "code",
   "execution_count": 57,
   "id": "8a33c860",
   "metadata": {
    "ExecuteTime": {
     "end_time": "2023-12-20T03:22:20.964731400Z",
     "start_time": "2023-12-20T03:22:20.858733Z"
    }
   },
   "outputs": [],
   "source": [
    "X = df.drop(['douban_score'], axis=1)  # 特征\n",
    "y = df['douban_score']  # 目标变量\n",
    "X_train, X_test, y_train, y_test = train_test_split(X, y, test_size=0.2, random_state=42,shuffle=False)"
   ]
  },
  {
   "cell_type": "code",
   "execution_count": 58,
   "id": "80235468",
   "metadata": {
    "scrolled": true,
    "ExecuteTime": {
     "end_time": "2023-12-20T03:22:21.439267100Z",
     "start_time": "2023-12-20T03:22:20.925732500Z"
    }
   },
   "outputs": [
    {
     "name": "stderr",
     "output_type": "stream",
     "text": [
      "C:\\Users\\dong\\AppData\\Local\\Temp/ipykernel_16656/2347178544.py:3: SettingWithCopyWarning: \n",
      "A value is trying to be set on a copy of a slice from a DataFrame.\n",
      "Try using .loc[row_indexer,col_indexer] = value instead\n",
      "\n",
      "See the caveats in the documentation: https://pandas.pydata.org/pandas-docs/stable/user_guide/indexing.html#returning-a-view-versus-a-copy\n",
      "  X_test['决策树模型预测评分'] = dt_regressor.predict(X_test)\n"
     ]
    },
    {
     "data": {
      "text/plain": "       douban_votes  duration  year  genres  Comedy  传记  传记/历史/古装  传记/古装/戏曲  \\\n8447            438       106  1975      30       0   0         0         0   \n8448            869       100  1975    1161       0   0         0         0   \n8449            923       117  1975      69       0   0         0         0   \n8450            168        83  1974     218       0   0         0         0   \n8451             76       110  1974       5       0   0         0         0   \n...             ...       ...   ...     ...     ...  ..       ...       ...   \n10554          1903        98  2015     195       0   0         0         0   \n10555           142       121  2014       5       0   0         0         0   \n10556           102        88  2014     452       0   0         0         0   \n10557          9343        96  2014     548       0   0         0         0   \n10558           174       116  2014       5       0   0         0         0   \n\n       传记/西部  剧情  ...  西部/奇幻/冒险  音乐  音乐/传记  音乐/儿童  音乐/儿童/古装  音乐/歌舞  \\\n8447       0   0  ...         0   0      0      0         0      0   \n8448       0   0  ...         0   0      0      0         0      0   \n8449       0   0  ...         0   0      0      0         0      0   \n8450       0   0  ...         0   0      0      0         0      0   \n8451       0   1  ...         0   0      0      0         0      0   \n...      ...  ..  ...       ...  ..    ...    ...       ...    ...   \n10554      0   0  ...         0   0      0      0         0      0   \n10555      0   1  ...         0   0      0      0         0      0   \n10556      0   0  ...         0   0      0      0         0      0   \n10557      0   0  ...         0   0      0      0         0      0   \n10558      0   1  ...         0   0      0      0         0      0   \n\n       音乐/歌舞/家庭/传记  音乐/歌舞/真人秀  音乐/真人秀  决策树模型预测评分  \n8447             0          0       0        7.1  \n8448             0          0       0        7.2  \n8449             0          0       0        7.2  \n8450             0          0       0        7.6  \n8451             0          0       0        7.4  \n...            ...        ...     ...        ...  \n10554            0          0       0        7.5  \n10555            0          0       0        7.3  \n10556            0          0       0        8.3  \n10557            0          0       0        7.3  \n10558            0          0       0        7.5  \n\n[2112 rows x 1206 columns]",
      "text/html": "<div>\n<style scoped>\n    .dataframe tbody tr th:only-of-type {\n        vertical-align: middle;\n    }\n\n    .dataframe tbody tr th {\n        vertical-align: top;\n    }\n\n    .dataframe thead th {\n        text-align: right;\n    }\n</style>\n<table border=\"1\" class=\"dataframe\">\n  <thead>\n    <tr style=\"text-align: right;\">\n      <th></th>\n      <th>douban_votes</th>\n      <th>duration</th>\n      <th>year</th>\n      <th>genres</th>\n      <th>Comedy</th>\n      <th>传记</th>\n      <th>传记/历史/古装</th>\n      <th>传记/古装/戏曲</th>\n      <th>传记/西部</th>\n      <th>剧情</th>\n      <th>...</th>\n      <th>西部/奇幻/冒险</th>\n      <th>音乐</th>\n      <th>音乐/传记</th>\n      <th>音乐/儿童</th>\n      <th>音乐/儿童/古装</th>\n      <th>音乐/歌舞</th>\n      <th>音乐/歌舞/家庭/传记</th>\n      <th>音乐/歌舞/真人秀</th>\n      <th>音乐/真人秀</th>\n      <th>决策树模型预测评分</th>\n    </tr>\n  </thead>\n  <tbody>\n    <tr>\n      <th>8447</th>\n      <td>438</td>\n      <td>106</td>\n      <td>1975</td>\n      <td>30</td>\n      <td>0</td>\n      <td>0</td>\n      <td>0</td>\n      <td>0</td>\n      <td>0</td>\n      <td>0</td>\n      <td>...</td>\n      <td>0</td>\n      <td>0</td>\n      <td>0</td>\n      <td>0</td>\n      <td>0</td>\n      <td>0</td>\n      <td>0</td>\n      <td>0</td>\n      <td>0</td>\n      <td>7.1</td>\n    </tr>\n    <tr>\n      <th>8448</th>\n      <td>869</td>\n      <td>100</td>\n      <td>1975</td>\n      <td>1161</td>\n      <td>0</td>\n      <td>0</td>\n      <td>0</td>\n      <td>0</td>\n      <td>0</td>\n      <td>0</td>\n      <td>...</td>\n      <td>0</td>\n      <td>0</td>\n      <td>0</td>\n      <td>0</td>\n      <td>0</td>\n      <td>0</td>\n      <td>0</td>\n      <td>0</td>\n      <td>0</td>\n      <td>7.2</td>\n    </tr>\n    <tr>\n      <th>8449</th>\n      <td>923</td>\n      <td>117</td>\n      <td>1975</td>\n      <td>69</td>\n      <td>0</td>\n      <td>0</td>\n      <td>0</td>\n      <td>0</td>\n      <td>0</td>\n      <td>0</td>\n      <td>...</td>\n      <td>0</td>\n      <td>0</td>\n      <td>0</td>\n      <td>0</td>\n      <td>0</td>\n      <td>0</td>\n      <td>0</td>\n      <td>0</td>\n      <td>0</td>\n      <td>7.2</td>\n    </tr>\n    <tr>\n      <th>8450</th>\n      <td>168</td>\n      <td>83</td>\n      <td>1974</td>\n      <td>218</td>\n      <td>0</td>\n      <td>0</td>\n      <td>0</td>\n      <td>0</td>\n      <td>0</td>\n      <td>0</td>\n      <td>...</td>\n      <td>0</td>\n      <td>0</td>\n      <td>0</td>\n      <td>0</td>\n      <td>0</td>\n      <td>0</td>\n      <td>0</td>\n      <td>0</td>\n      <td>0</td>\n      <td>7.6</td>\n    </tr>\n    <tr>\n      <th>8451</th>\n      <td>76</td>\n      <td>110</td>\n      <td>1974</td>\n      <td>5</td>\n      <td>0</td>\n      <td>0</td>\n      <td>0</td>\n      <td>0</td>\n      <td>0</td>\n      <td>1</td>\n      <td>...</td>\n      <td>0</td>\n      <td>0</td>\n      <td>0</td>\n      <td>0</td>\n      <td>0</td>\n      <td>0</td>\n      <td>0</td>\n      <td>0</td>\n      <td>0</td>\n      <td>7.4</td>\n    </tr>\n    <tr>\n      <th>...</th>\n      <td>...</td>\n      <td>...</td>\n      <td>...</td>\n      <td>...</td>\n      <td>...</td>\n      <td>...</td>\n      <td>...</td>\n      <td>...</td>\n      <td>...</td>\n      <td>...</td>\n      <td>...</td>\n      <td>...</td>\n      <td>...</td>\n      <td>...</td>\n      <td>...</td>\n      <td>...</td>\n      <td>...</td>\n      <td>...</td>\n      <td>...</td>\n      <td>...</td>\n      <td>...</td>\n    </tr>\n    <tr>\n      <th>10554</th>\n      <td>1903</td>\n      <td>98</td>\n      <td>2015</td>\n      <td>195</td>\n      <td>0</td>\n      <td>0</td>\n      <td>0</td>\n      <td>0</td>\n      <td>0</td>\n      <td>0</td>\n      <td>...</td>\n      <td>0</td>\n      <td>0</td>\n      <td>0</td>\n      <td>0</td>\n      <td>0</td>\n      <td>0</td>\n      <td>0</td>\n      <td>0</td>\n      <td>0</td>\n      <td>7.5</td>\n    </tr>\n    <tr>\n      <th>10555</th>\n      <td>142</td>\n      <td>121</td>\n      <td>2014</td>\n      <td>5</td>\n      <td>0</td>\n      <td>0</td>\n      <td>0</td>\n      <td>0</td>\n      <td>0</td>\n      <td>1</td>\n      <td>...</td>\n      <td>0</td>\n      <td>0</td>\n      <td>0</td>\n      <td>0</td>\n      <td>0</td>\n      <td>0</td>\n      <td>0</td>\n      <td>0</td>\n      <td>0</td>\n      <td>7.3</td>\n    </tr>\n    <tr>\n      <th>10556</th>\n      <td>102</td>\n      <td>88</td>\n      <td>2014</td>\n      <td>452</td>\n      <td>0</td>\n      <td>0</td>\n      <td>0</td>\n      <td>0</td>\n      <td>0</td>\n      <td>0</td>\n      <td>...</td>\n      <td>0</td>\n      <td>0</td>\n      <td>0</td>\n      <td>0</td>\n      <td>0</td>\n      <td>0</td>\n      <td>0</td>\n      <td>0</td>\n      <td>0</td>\n      <td>8.3</td>\n    </tr>\n    <tr>\n      <th>10557</th>\n      <td>9343</td>\n      <td>96</td>\n      <td>2014</td>\n      <td>548</td>\n      <td>0</td>\n      <td>0</td>\n      <td>0</td>\n      <td>0</td>\n      <td>0</td>\n      <td>0</td>\n      <td>...</td>\n      <td>0</td>\n      <td>0</td>\n      <td>0</td>\n      <td>0</td>\n      <td>0</td>\n      <td>0</td>\n      <td>0</td>\n      <td>0</td>\n      <td>0</td>\n      <td>7.3</td>\n    </tr>\n    <tr>\n      <th>10558</th>\n      <td>174</td>\n      <td>116</td>\n      <td>2014</td>\n      <td>5</td>\n      <td>0</td>\n      <td>0</td>\n      <td>0</td>\n      <td>0</td>\n      <td>0</td>\n      <td>1</td>\n      <td>...</td>\n      <td>0</td>\n      <td>0</td>\n      <td>0</td>\n      <td>0</td>\n      <td>0</td>\n      <td>0</td>\n      <td>0</td>\n      <td>0</td>\n      <td>0</td>\n      <td>7.5</td>\n    </tr>\n  </tbody>\n</table>\n<p>2112 rows × 1206 columns</p>\n</div>"
     },
     "execution_count": 58,
     "metadata": {},
     "output_type": "execute_result"
    }
   ],
   "source": [
    "dt_regressor = DecisionTreeRegressor(random_state=42)\n",
    "dt_regressor.fit(X_train, y_train)\n",
    "X_test['决策树模型预测评分'] = dt_regressor.predict(X_test)\n",
    "X_test"
   ]
  },
  {
   "cell_type": "code",
   "execution_count": 59,
   "id": "4a34099c",
   "metadata": {
    "ExecuteTime": {
     "end_time": "2023-12-20T03:22:21.611851100Z",
     "start_time": "2023-12-20T03:22:21.439798700Z"
    }
   },
   "outputs": [],
   "source": [
    "X = df.drop(['douban_score'], axis=1)  # 特征\n",
    "y = df['douban_score']  # 目标变量\n",
    "X_train, X_test, y_train, y_test = train_test_split(X, y, test_size=0.2, random_state=42,shuffle=False)"
   ]
  },
  {
   "cell_type": "code",
   "execution_count": 60,
   "id": "918c4632",
   "metadata": {
    "ExecuteTime": {
     "end_time": "2023-12-20T03:22:24.803719Z",
     "start_time": "2023-12-20T03:22:21.559862300Z"
    }
   },
   "outputs": [
    {
     "name": "stderr",
     "output_type": "stream",
     "text": [
      "C:\\Users\\dong\\AppData\\Local\\Temp/ipykernel_16656/1551772047.py:3: SettingWithCopyWarning: \n",
      "A value is trying to be set on a copy of a slice from a DataFrame.\n",
      "Try using .loc[row_indexer,col_indexer] = value instead\n",
      "\n",
      "See the caveats in the documentation: https://pandas.pydata.org/pandas-docs/stable/user_guide/indexing.html#returning-a-view-versus-a-copy\n",
      "  X_test['线性回归模型预测评分'] = lr_regressor.predict(X_test)\n"
     ]
    },
    {
     "data": {
      "text/plain": "       douban_votes  duration  year  genres  Comedy  传记  传记/历史/古装  传记/古装/戏曲  \\\n8447            438       106  1975      30       0   0         0         0   \n8448            869       100  1975    1161       0   0         0         0   \n8449            923       117  1975      69       0   0         0         0   \n8450            168        83  1974     218       0   0         0         0   \n8451             76       110  1974       5       0   0         0         0   \n...             ...       ...   ...     ...     ...  ..       ...       ...   \n10554          1903        98  2015     195       0   0         0         0   \n10555           142       121  2014       5       0   0         0         0   \n10556           102        88  2014     452       0   0         0         0   \n10557          9343        96  2014     548       0   0         0         0   \n10558           174       116  2014       5       0   0         0         0   \n\n       传记/西部  剧情  ...  西部/奇幻/冒险  音乐  音乐/传记  音乐/儿童  音乐/儿童/古装  音乐/歌舞  \\\n8447       0   0  ...         0   0      0      0         0      0   \n8448       0   0  ...         0   0      0      0         0      0   \n8449       0   0  ...         0   0      0      0         0      0   \n8450       0   0  ...         0   0      0      0         0      0   \n8451       0   1  ...         0   0      0      0         0      0   \n...      ...  ..  ...       ...  ..    ...    ...       ...    ...   \n10554      0   0  ...         0   0      0      0         0      0   \n10555      0   1  ...         0   0      0      0         0      0   \n10556      0   0  ...         0   0      0      0         0      0   \n10557      0   0  ...         0   0      0      0         0      0   \n10558      0   1  ...         0   0      0      0         0      0   \n\n       音乐/歌舞/家庭/传记  音乐/歌舞/真人秀  音乐/真人秀  线性回归模型预测评分  \n8447             0          0       0    7.470174  \n8448             0          0       0    7.638579  \n8449             0          0       0    7.456244  \n8450             0          0       0    8.058117  \n8451             0          0       0    7.626277  \n...            ...        ...     ...         ...  \n10554            0          0       0    7.551169  \n10555            0          0       0    7.617884  \n10556            0          0       0    7.530648  \n10557            0          0       0    7.592068  \n10558            0          0       0    7.609985  \n\n[2112 rows x 1206 columns]",
      "text/html": "<div>\n<style scoped>\n    .dataframe tbody tr th:only-of-type {\n        vertical-align: middle;\n    }\n\n    .dataframe tbody tr th {\n        vertical-align: top;\n    }\n\n    .dataframe thead th {\n        text-align: right;\n    }\n</style>\n<table border=\"1\" class=\"dataframe\">\n  <thead>\n    <tr style=\"text-align: right;\">\n      <th></th>\n      <th>douban_votes</th>\n      <th>duration</th>\n      <th>year</th>\n      <th>genres</th>\n      <th>Comedy</th>\n      <th>传记</th>\n      <th>传记/历史/古装</th>\n      <th>传记/古装/戏曲</th>\n      <th>传记/西部</th>\n      <th>剧情</th>\n      <th>...</th>\n      <th>西部/奇幻/冒险</th>\n      <th>音乐</th>\n      <th>音乐/传记</th>\n      <th>音乐/儿童</th>\n      <th>音乐/儿童/古装</th>\n      <th>音乐/歌舞</th>\n      <th>音乐/歌舞/家庭/传记</th>\n      <th>音乐/歌舞/真人秀</th>\n      <th>音乐/真人秀</th>\n      <th>线性回归模型预测评分</th>\n    </tr>\n  </thead>\n  <tbody>\n    <tr>\n      <th>8447</th>\n      <td>438</td>\n      <td>106</td>\n      <td>1975</td>\n      <td>30</td>\n      <td>0</td>\n      <td>0</td>\n      <td>0</td>\n      <td>0</td>\n      <td>0</td>\n      <td>0</td>\n      <td>...</td>\n      <td>0</td>\n      <td>0</td>\n      <td>0</td>\n      <td>0</td>\n      <td>0</td>\n      <td>0</td>\n      <td>0</td>\n      <td>0</td>\n      <td>0</td>\n      <td>7.470174</td>\n    </tr>\n    <tr>\n      <th>8448</th>\n      <td>869</td>\n      <td>100</td>\n      <td>1975</td>\n      <td>1161</td>\n      <td>0</td>\n      <td>0</td>\n      <td>0</td>\n      <td>0</td>\n      <td>0</td>\n      <td>0</td>\n      <td>...</td>\n      <td>0</td>\n      <td>0</td>\n      <td>0</td>\n      <td>0</td>\n      <td>0</td>\n      <td>0</td>\n      <td>0</td>\n      <td>0</td>\n      <td>0</td>\n      <td>7.638579</td>\n    </tr>\n    <tr>\n      <th>8449</th>\n      <td>923</td>\n      <td>117</td>\n      <td>1975</td>\n      <td>69</td>\n      <td>0</td>\n      <td>0</td>\n      <td>0</td>\n      <td>0</td>\n      <td>0</td>\n      <td>0</td>\n      <td>...</td>\n      <td>0</td>\n      <td>0</td>\n      <td>0</td>\n      <td>0</td>\n      <td>0</td>\n      <td>0</td>\n      <td>0</td>\n      <td>0</td>\n      <td>0</td>\n      <td>7.456244</td>\n    </tr>\n    <tr>\n      <th>8450</th>\n      <td>168</td>\n      <td>83</td>\n      <td>1974</td>\n      <td>218</td>\n      <td>0</td>\n      <td>0</td>\n      <td>0</td>\n      <td>0</td>\n      <td>0</td>\n      <td>0</td>\n      <td>...</td>\n      <td>0</td>\n      <td>0</td>\n      <td>0</td>\n      <td>0</td>\n      <td>0</td>\n      <td>0</td>\n      <td>0</td>\n      <td>0</td>\n      <td>0</td>\n      <td>8.058117</td>\n    </tr>\n    <tr>\n      <th>8451</th>\n      <td>76</td>\n      <td>110</td>\n      <td>1974</td>\n      <td>5</td>\n      <td>0</td>\n      <td>0</td>\n      <td>0</td>\n      <td>0</td>\n      <td>0</td>\n      <td>1</td>\n      <td>...</td>\n      <td>0</td>\n      <td>0</td>\n      <td>0</td>\n      <td>0</td>\n      <td>0</td>\n      <td>0</td>\n      <td>0</td>\n      <td>0</td>\n      <td>0</td>\n      <td>7.626277</td>\n    </tr>\n    <tr>\n      <th>...</th>\n      <td>...</td>\n      <td>...</td>\n      <td>...</td>\n      <td>...</td>\n      <td>...</td>\n      <td>...</td>\n      <td>...</td>\n      <td>...</td>\n      <td>...</td>\n      <td>...</td>\n      <td>...</td>\n      <td>...</td>\n      <td>...</td>\n      <td>...</td>\n      <td>...</td>\n      <td>...</td>\n      <td>...</td>\n      <td>...</td>\n      <td>...</td>\n      <td>...</td>\n      <td>...</td>\n    </tr>\n    <tr>\n      <th>10554</th>\n      <td>1903</td>\n      <td>98</td>\n      <td>2015</td>\n      <td>195</td>\n      <td>0</td>\n      <td>0</td>\n      <td>0</td>\n      <td>0</td>\n      <td>0</td>\n      <td>0</td>\n      <td>...</td>\n      <td>0</td>\n      <td>0</td>\n      <td>0</td>\n      <td>0</td>\n      <td>0</td>\n      <td>0</td>\n      <td>0</td>\n      <td>0</td>\n      <td>0</td>\n      <td>7.551169</td>\n    </tr>\n    <tr>\n      <th>10555</th>\n      <td>142</td>\n      <td>121</td>\n      <td>2014</td>\n      <td>5</td>\n      <td>0</td>\n      <td>0</td>\n      <td>0</td>\n      <td>0</td>\n      <td>0</td>\n      <td>1</td>\n      <td>...</td>\n      <td>0</td>\n      <td>0</td>\n      <td>0</td>\n      <td>0</td>\n      <td>0</td>\n      <td>0</td>\n      <td>0</td>\n      <td>0</td>\n      <td>0</td>\n      <td>7.617884</td>\n    </tr>\n    <tr>\n      <th>10556</th>\n      <td>102</td>\n      <td>88</td>\n      <td>2014</td>\n      <td>452</td>\n      <td>0</td>\n      <td>0</td>\n      <td>0</td>\n      <td>0</td>\n      <td>0</td>\n      <td>0</td>\n      <td>...</td>\n      <td>0</td>\n      <td>0</td>\n      <td>0</td>\n      <td>0</td>\n      <td>0</td>\n      <td>0</td>\n      <td>0</td>\n      <td>0</td>\n      <td>0</td>\n      <td>7.530648</td>\n    </tr>\n    <tr>\n      <th>10557</th>\n      <td>9343</td>\n      <td>96</td>\n      <td>2014</td>\n      <td>548</td>\n      <td>0</td>\n      <td>0</td>\n      <td>0</td>\n      <td>0</td>\n      <td>0</td>\n      <td>0</td>\n      <td>...</td>\n      <td>0</td>\n      <td>0</td>\n      <td>0</td>\n      <td>0</td>\n      <td>0</td>\n      <td>0</td>\n      <td>0</td>\n      <td>0</td>\n      <td>0</td>\n      <td>7.592068</td>\n    </tr>\n    <tr>\n      <th>10558</th>\n      <td>174</td>\n      <td>116</td>\n      <td>2014</td>\n      <td>5</td>\n      <td>0</td>\n      <td>0</td>\n      <td>0</td>\n      <td>0</td>\n      <td>0</td>\n      <td>1</td>\n      <td>...</td>\n      <td>0</td>\n      <td>0</td>\n      <td>0</td>\n      <td>0</td>\n      <td>0</td>\n      <td>0</td>\n      <td>0</td>\n      <td>0</td>\n      <td>0</td>\n      <td>7.609985</td>\n    </tr>\n  </tbody>\n</table>\n<p>2112 rows × 1206 columns</p>\n</div>"
     },
     "execution_count": 60,
     "metadata": {},
     "output_type": "execute_result"
    }
   ],
   "source": [
    "lr_regressor = LinearRegression()\n",
    "lr_regressor.fit(X_train, y_train)\n",
    "X_test['线性回归模型预测评分'] = lr_regressor.predict(X_test)\n",
    "X_test"
   ]
  },
  {
   "cell_type": "code",
   "execution_count": 61,
   "id": "28429210",
   "metadata": {
    "ExecuteTime": {
     "end_time": "2023-12-20T03:22:24.955428200Z",
     "start_time": "2023-12-20T03:22:24.864432700Z"
    }
   },
   "outputs": [],
   "source": [
    "X = df.drop(['douban_score'], axis=1)  # 特征\n",
    "y = df['douban_score']  # 目标变量\n",
    "X_train, X_test, y_train, y_test = train_test_split(X, y, test_size=0.2, random_state=42,shuffle=False)"
   ]
  },
  {
   "cell_type": "code",
   "execution_count": 62,
   "id": "72231b63",
   "metadata": {
    "ExecuteTime": {
     "end_time": "2023-12-20T03:22:29.974715300Z",
     "start_time": "2023-12-20T03:22:24.895433200Z"
    }
   },
   "outputs": [
    {
     "name": "stderr",
     "output_type": "stream",
     "text": [
      "C:\\Users\\dong\\AppData\\Local\\Temp/ipykernel_16656/2587796423.py:3: SettingWithCopyWarning: \n",
      "A value is trying to be set on a copy of a slice from a DataFrame.\n",
      "Try using .loc[row_indexer,col_indexer] = value instead\n",
      "\n",
      "See the caveats in the documentation: https://pandas.pydata.org/pandas-docs/stable/user_guide/indexing.html#returning-a-view-versus-a-copy\n",
      "  X_test['xgb_regressor模型预测评分'] = xgb_regressor.predict(X_test)\n"
     ]
    },
    {
     "data": {
      "text/plain": "       douban_votes  duration  year  genres  Comedy  传记  传记/历史/古装  传记/古装/戏曲  \\\n8447            438       106  1975      30       0   0         0         0   \n8448            869       100  1975    1161       0   0         0         0   \n8449            923       117  1975      69       0   0         0         0   \n8450            168        83  1974     218       0   0         0         0   \n8451             76       110  1974       5       0   0         0         0   \n...             ...       ...   ...     ...     ...  ..       ...       ...   \n10554          1903        98  2015     195       0   0         0         0   \n10555           142       121  2014       5       0   0         0         0   \n10556           102        88  2014     452       0   0         0         0   \n10557          9343        96  2014     548       0   0         0         0   \n10558           174       116  2014       5       0   0         0         0   \n\n       传记/西部  剧情  ...  西部/奇幻/冒险  音乐  音乐/传记  音乐/儿童  音乐/儿童/古装  音乐/歌舞  \\\n8447       0   0  ...         0   0      0      0         0      0   \n8448       0   0  ...         0   0      0      0         0      0   \n8449       0   0  ...         0   0      0      0         0      0   \n8450       0   0  ...         0   0      0      0         0      0   \n8451       0   1  ...         0   0      0      0         0      0   \n...      ...  ..  ...       ...  ..    ...    ...       ...    ...   \n10554      0   0  ...         0   0      0      0         0      0   \n10555      0   1  ...         0   0      0      0         0      0   \n10556      0   0  ...         0   0      0      0         0      0   \n10557      0   0  ...         0   0      0      0         0      0   \n10558      0   1  ...         0   0      0      0         0      0   \n\n       音乐/歌舞/家庭/传记  音乐/歌舞/真人秀  音乐/真人秀  xgb_regressor模型预测评分  \n8447             0          0       0             7.481957  \n8448             0          0       0             7.668054  \n8449             0          0       0             7.532745  \n8450             0          0       0             7.785539  \n8451             0          0       0             7.472342  \n...            ...        ...     ...                  ...  \n10554            0          0       0             7.446119  \n10555            0          0       0             7.321328  \n10556            0          0       0             7.339952  \n10557            0          0       0             7.471557  \n10558            0          0       0             7.349602  \n\n[2112 rows x 1206 columns]",
      "text/html": "<div>\n<style scoped>\n    .dataframe tbody tr th:only-of-type {\n        vertical-align: middle;\n    }\n\n    .dataframe tbody tr th {\n        vertical-align: top;\n    }\n\n    .dataframe thead th {\n        text-align: right;\n    }\n</style>\n<table border=\"1\" class=\"dataframe\">\n  <thead>\n    <tr style=\"text-align: right;\">\n      <th></th>\n      <th>douban_votes</th>\n      <th>duration</th>\n      <th>year</th>\n      <th>genres</th>\n      <th>Comedy</th>\n      <th>传记</th>\n      <th>传记/历史/古装</th>\n      <th>传记/古装/戏曲</th>\n      <th>传记/西部</th>\n      <th>剧情</th>\n      <th>...</th>\n      <th>西部/奇幻/冒险</th>\n      <th>音乐</th>\n      <th>音乐/传记</th>\n      <th>音乐/儿童</th>\n      <th>音乐/儿童/古装</th>\n      <th>音乐/歌舞</th>\n      <th>音乐/歌舞/家庭/传记</th>\n      <th>音乐/歌舞/真人秀</th>\n      <th>音乐/真人秀</th>\n      <th>xgb_regressor模型预测评分</th>\n    </tr>\n  </thead>\n  <tbody>\n    <tr>\n      <th>8447</th>\n      <td>438</td>\n      <td>106</td>\n      <td>1975</td>\n      <td>30</td>\n      <td>0</td>\n      <td>0</td>\n      <td>0</td>\n      <td>0</td>\n      <td>0</td>\n      <td>0</td>\n      <td>...</td>\n      <td>0</td>\n      <td>0</td>\n      <td>0</td>\n      <td>0</td>\n      <td>0</td>\n      <td>0</td>\n      <td>0</td>\n      <td>0</td>\n      <td>0</td>\n      <td>7.481957</td>\n    </tr>\n    <tr>\n      <th>8448</th>\n      <td>869</td>\n      <td>100</td>\n      <td>1975</td>\n      <td>1161</td>\n      <td>0</td>\n      <td>0</td>\n      <td>0</td>\n      <td>0</td>\n      <td>0</td>\n      <td>0</td>\n      <td>...</td>\n      <td>0</td>\n      <td>0</td>\n      <td>0</td>\n      <td>0</td>\n      <td>0</td>\n      <td>0</td>\n      <td>0</td>\n      <td>0</td>\n      <td>0</td>\n      <td>7.668054</td>\n    </tr>\n    <tr>\n      <th>8449</th>\n      <td>923</td>\n      <td>117</td>\n      <td>1975</td>\n      <td>69</td>\n      <td>0</td>\n      <td>0</td>\n      <td>0</td>\n      <td>0</td>\n      <td>0</td>\n      <td>0</td>\n      <td>...</td>\n      <td>0</td>\n      <td>0</td>\n      <td>0</td>\n      <td>0</td>\n      <td>0</td>\n      <td>0</td>\n      <td>0</td>\n      <td>0</td>\n      <td>0</td>\n      <td>7.532745</td>\n    </tr>\n    <tr>\n      <th>8450</th>\n      <td>168</td>\n      <td>83</td>\n      <td>1974</td>\n      <td>218</td>\n      <td>0</td>\n      <td>0</td>\n      <td>0</td>\n      <td>0</td>\n      <td>0</td>\n      <td>0</td>\n      <td>...</td>\n      <td>0</td>\n      <td>0</td>\n      <td>0</td>\n      <td>0</td>\n      <td>0</td>\n      <td>0</td>\n      <td>0</td>\n      <td>0</td>\n      <td>0</td>\n      <td>7.785539</td>\n    </tr>\n    <tr>\n      <th>8451</th>\n      <td>76</td>\n      <td>110</td>\n      <td>1974</td>\n      <td>5</td>\n      <td>0</td>\n      <td>0</td>\n      <td>0</td>\n      <td>0</td>\n      <td>0</td>\n      <td>1</td>\n      <td>...</td>\n      <td>0</td>\n      <td>0</td>\n      <td>0</td>\n      <td>0</td>\n      <td>0</td>\n      <td>0</td>\n      <td>0</td>\n      <td>0</td>\n      <td>0</td>\n      <td>7.472342</td>\n    </tr>\n    <tr>\n      <th>...</th>\n      <td>...</td>\n      <td>...</td>\n      <td>...</td>\n      <td>...</td>\n      <td>...</td>\n      <td>...</td>\n      <td>...</td>\n      <td>...</td>\n      <td>...</td>\n      <td>...</td>\n      <td>...</td>\n      <td>...</td>\n      <td>...</td>\n      <td>...</td>\n      <td>...</td>\n      <td>...</td>\n      <td>...</td>\n      <td>...</td>\n      <td>...</td>\n      <td>...</td>\n      <td>...</td>\n    </tr>\n    <tr>\n      <th>10554</th>\n      <td>1903</td>\n      <td>98</td>\n      <td>2015</td>\n      <td>195</td>\n      <td>0</td>\n      <td>0</td>\n      <td>0</td>\n      <td>0</td>\n      <td>0</td>\n      <td>0</td>\n      <td>...</td>\n      <td>0</td>\n      <td>0</td>\n      <td>0</td>\n      <td>0</td>\n      <td>0</td>\n      <td>0</td>\n      <td>0</td>\n      <td>0</td>\n      <td>0</td>\n      <td>7.446119</td>\n    </tr>\n    <tr>\n      <th>10555</th>\n      <td>142</td>\n      <td>121</td>\n      <td>2014</td>\n      <td>5</td>\n      <td>0</td>\n      <td>0</td>\n      <td>0</td>\n      <td>0</td>\n      <td>0</td>\n      <td>1</td>\n      <td>...</td>\n      <td>0</td>\n      <td>0</td>\n      <td>0</td>\n      <td>0</td>\n      <td>0</td>\n      <td>0</td>\n      <td>0</td>\n      <td>0</td>\n      <td>0</td>\n      <td>7.321328</td>\n    </tr>\n    <tr>\n      <th>10556</th>\n      <td>102</td>\n      <td>88</td>\n      <td>2014</td>\n      <td>452</td>\n      <td>0</td>\n      <td>0</td>\n      <td>0</td>\n      <td>0</td>\n      <td>0</td>\n      <td>0</td>\n      <td>...</td>\n      <td>0</td>\n      <td>0</td>\n      <td>0</td>\n      <td>0</td>\n      <td>0</td>\n      <td>0</td>\n      <td>0</td>\n      <td>0</td>\n      <td>0</td>\n      <td>7.339952</td>\n    </tr>\n    <tr>\n      <th>10557</th>\n      <td>9343</td>\n      <td>96</td>\n      <td>2014</td>\n      <td>548</td>\n      <td>0</td>\n      <td>0</td>\n      <td>0</td>\n      <td>0</td>\n      <td>0</td>\n      <td>0</td>\n      <td>...</td>\n      <td>0</td>\n      <td>0</td>\n      <td>0</td>\n      <td>0</td>\n      <td>0</td>\n      <td>0</td>\n      <td>0</td>\n      <td>0</td>\n      <td>0</td>\n      <td>7.471557</td>\n    </tr>\n    <tr>\n      <th>10558</th>\n      <td>174</td>\n      <td>116</td>\n      <td>2014</td>\n      <td>5</td>\n      <td>0</td>\n      <td>0</td>\n      <td>0</td>\n      <td>0</td>\n      <td>0</td>\n      <td>1</td>\n      <td>...</td>\n      <td>0</td>\n      <td>0</td>\n      <td>0</td>\n      <td>0</td>\n      <td>0</td>\n      <td>0</td>\n      <td>0</td>\n      <td>0</td>\n      <td>0</td>\n      <td>7.349602</td>\n    </tr>\n  </tbody>\n</table>\n<p>2112 rows × 1206 columns</p>\n</div>"
     },
     "execution_count": 62,
     "metadata": {},
     "output_type": "execute_result"
    }
   ],
   "source": [
    "xgb_regressor = XGBRegressor(random_state=42)\n",
    "xgb_regressor.fit(X_train, y_train)\n",
    "X_test['xgb_regressor模型预测评分'] = xgb_regressor.predict(X_test)\n",
    "X_test"
   ]
  },
  {
   "cell_type": "code",
   "execution_count": 63,
   "id": "74f279d5",
   "metadata": {
    "ExecuteTime": {
     "end_time": "2023-12-20T03:22:30.123013400Z",
     "start_time": "2023-12-20T03:22:29.970715100Z"
    }
   },
   "outputs": [],
   "source": [
    "X = df.drop(['douban_score'], axis=1)  # 特征\n",
    "y = df['douban_score']  # 目标变量\n",
    "X_train, X_test, y_train, y_test = train_test_split(X, y, test_size=0.2, random_state=42,shuffle=False)"
   ]
  },
  {
   "cell_type": "code",
   "execution_count": 64,
   "id": "2655a93e",
   "metadata": {
    "scrolled": true,
    "ExecuteTime": {
     "end_time": "2023-12-20T03:22:37.569480300Z",
     "start_time": "2023-12-20T03:22:30.129021Z"
    }
   },
   "outputs": [
    {
     "name": "stderr",
     "output_type": "stream",
     "text": [
      "C:\\Users\\dong\\AppData\\Local\\Temp/ipykernel_16656/3189876339.py:3: SettingWithCopyWarning: \n",
      "A value is trying to be set on a copy of a slice from a DataFrame.\n",
      "Try using .loc[row_indexer,col_indexer] = value instead\n",
      "\n",
      "See the caveats in the documentation: https://pandas.pydata.org/pandas-docs/stable/user_guide/indexing.html#returning-a-view-versus-a-copy\n",
      "  X_test['xgb_regressor模型预测评分'] = catboost_regressor.predict(X_test)\n"
     ]
    },
    {
     "data": {
      "text/plain": "       douban_votes  duration  year  genres  Comedy  传记  传记/历史/古装  传记/古装/戏曲  \\\n8447            438       106  1975      30       0   0         0         0   \n8448            869       100  1975    1161       0   0         0         0   \n8449            923       117  1975      69       0   0         0         0   \n8450            168        83  1974     218       0   0         0         0   \n8451             76       110  1974       5       0   0         0         0   \n...             ...       ...   ...     ...     ...  ..       ...       ...   \n10554          1903        98  2015     195       0   0         0         0   \n10555           142       121  2014       5       0   0         0         0   \n10556           102        88  2014     452       0   0         0         0   \n10557          9343        96  2014     548       0   0         0         0   \n10558           174       116  2014       5       0   0         0         0   \n\n       传记/西部  剧情  ...  西部/奇幻/冒险  音乐  音乐/传记  音乐/儿童  音乐/儿童/古装  音乐/歌舞  \\\n8447       0   0  ...         0   0      0      0         0      0   \n8448       0   0  ...         0   0      0      0         0      0   \n8449       0   0  ...         0   0      0      0         0      0   \n8450       0   0  ...         0   0      0      0         0      0   \n8451       0   1  ...         0   0      0      0         0      0   \n...      ...  ..  ...       ...  ..    ...    ...       ...    ...   \n10554      0   0  ...         0   0      0      0         0      0   \n10555      0   1  ...         0   0      0      0         0      0   \n10556      0   0  ...         0   0      0      0         0      0   \n10557      0   0  ...         0   0      0      0         0      0   \n10558      0   1  ...         0   0      0      0         0      0   \n\n       音乐/歌舞/家庭/传记  音乐/歌舞/真人秀  音乐/真人秀  xgb_regressor模型预测评分  \n8447             0          0       0             7.542978  \n8448             0          0       0             7.570115  \n8449             0          0       0             7.559488  \n8450             0          0       0             7.653045  \n8451             0          0       0             7.459949  \n...            ...        ...     ...                  ...  \n10554            0          0       0             7.422218  \n10555            0          0       0             7.349566  \n10556            0          0       0             7.448082  \n10557            0          0       0             7.516349  \n10558            0          0       0             7.335134  \n\n[2112 rows x 1206 columns]",
      "text/html": "<div>\n<style scoped>\n    .dataframe tbody tr th:only-of-type {\n        vertical-align: middle;\n    }\n\n    .dataframe tbody tr th {\n        vertical-align: top;\n    }\n\n    .dataframe thead th {\n        text-align: right;\n    }\n</style>\n<table border=\"1\" class=\"dataframe\">\n  <thead>\n    <tr style=\"text-align: right;\">\n      <th></th>\n      <th>douban_votes</th>\n      <th>duration</th>\n      <th>year</th>\n      <th>genres</th>\n      <th>Comedy</th>\n      <th>传记</th>\n      <th>传记/历史/古装</th>\n      <th>传记/古装/戏曲</th>\n      <th>传记/西部</th>\n      <th>剧情</th>\n      <th>...</th>\n      <th>西部/奇幻/冒险</th>\n      <th>音乐</th>\n      <th>音乐/传记</th>\n      <th>音乐/儿童</th>\n      <th>音乐/儿童/古装</th>\n      <th>音乐/歌舞</th>\n      <th>音乐/歌舞/家庭/传记</th>\n      <th>音乐/歌舞/真人秀</th>\n      <th>音乐/真人秀</th>\n      <th>xgb_regressor模型预测评分</th>\n    </tr>\n  </thead>\n  <tbody>\n    <tr>\n      <th>8447</th>\n      <td>438</td>\n      <td>106</td>\n      <td>1975</td>\n      <td>30</td>\n      <td>0</td>\n      <td>0</td>\n      <td>0</td>\n      <td>0</td>\n      <td>0</td>\n      <td>0</td>\n      <td>...</td>\n      <td>0</td>\n      <td>0</td>\n      <td>0</td>\n      <td>0</td>\n      <td>0</td>\n      <td>0</td>\n      <td>0</td>\n      <td>0</td>\n      <td>0</td>\n      <td>7.542978</td>\n    </tr>\n    <tr>\n      <th>8448</th>\n      <td>869</td>\n      <td>100</td>\n      <td>1975</td>\n      <td>1161</td>\n      <td>0</td>\n      <td>0</td>\n      <td>0</td>\n      <td>0</td>\n      <td>0</td>\n      <td>0</td>\n      <td>...</td>\n      <td>0</td>\n      <td>0</td>\n      <td>0</td>\n      <td>0</td>\n      <td>0</td>\n      <td>0</td>\n      <td>0</td>\n      <td>0</td>\n      <td>0</td>\n      <td>7.570115</td>\n    </tr>\n    <tr>\n      <th>8449</th>\n      <td>923</td>\n      <td>117</td>\n      <td>1975</td>\n      <td>69</td>\n      <td>0</td>\n      <td>0</td>\n      <td>0</td>\n      <td>0</td>\n      <td>0</td>\n      <td>0</td>\n      <td>...</td>\n      <td>0</td>\n      <td>0</td>\n      <td>0</td>\n      <td>0</td>\n      <td>0</td>\n      <td>0</td>\n      <td>0</td>\n      <td>0</td>\n      <td>0</td>\n      <td>7.559488</td>\n    </tr>\n    <tr>\n      <th>8450</th>\n      <td>168</td>\n      <td>83</td>\n      <td>1974</td>\n      <td>218</td>\n      <td>0</td>\n      <td>0</td>\n      <td>0</td>\n      <td>0</td>\n      <td>0</td>\n      <td>0</td>\n      <td>...</td>\n      <td>0</td>\n      <td>0</td>\n      <td>0</td>\n      <td>0</td>\n      <td>0</td>\n      <td>0</td>\n      <td>0</td>\n      <td>0</td>\n      <td>0</td>\n      <td>7.653045</td>\n    </tr>\n    <tr>\n      <th>8451</th>\n      <td>76</td>\n      <td>110</td>\n      <td>1974</td>\n      <td>5</td>\n      <td>0</td>\n      <td>0</td>\n      <td>0</td>\n      <td>0</td>\n      <td>0</td>\n      <td>1</td>\n      <td>...</td>\n      <td>0</td>\n      <td>0</td>\n      <td>0</td>\n      <td>0</td>\n      <td>0</td>\n      <td>0</td>\n      <td>0</td>\n      <td>0</td>\n      <td>0</td>\n      <td>7.459949</td>\n    </tr>\n    <tr>\n      <th>...</th>\n      <td>...</td>\n      <td>...</td>\n      <td>...</td>\n      <td>...</td>\n      <td>...</td>\n      <td>...</td>\n      <td>...</td>\n      <td>...</td>\n      <td>...</td>\n      <td>...</td>\n      <td>...</td>\n      <td>...</td>\n      <td>...</td>\n      <td>...</td>\n      <td>...</td>\n      <td>...</td>\n      <td>...</td>\n      <td>...</td>\n      <td>...</td>\n      <td>...</td>\n      <td>...</td>\n    </tr>\n    <tr>\n      <th>10554</th>\n      <td>1903</td>\n      <td>98</td>\n      <td>2015</td>\n      <td>195</td>\n      <td>0</td>\n      <td>0</td>\n      <td>0</td>\n      <td>0</td>\n      <td>0</td>\n      <td>0</td>\n      <td>...</td>\n      <td>0</td>\n      <td>0</td>\n      <td>0</td>\n      <td>0</td>\n      <td>0</td>\n      <td>0</td>\n      <td>0</td>\n      <td>0</td>\n      <td>0</td>\n      <td>7.422218</td>\n    </tr>\n    <tr>\n      <th>10555</th>\n      <td>142</td>\n      <td>121</td>\n      <td>2014</td>\n      <td>5</td>\n      <td>0</td>\n      <td>0</td>\n      <td>0</td>\n      <td>0</td>\n      <td>0</td>\n      <td>1</td>\n      <td>...</td>\n      <td>0</td>\n      <td>0</td>\n      <td>0</td>\n      <td>0</td>\n      <td>0</td>\n      <td>0</td>\n      <td>0</td>\n      <td>0</td>\n      <td>0</td>\n      <td>7.349566</td>\n    </tr>\n    <tr>\n      <th>10556</th>\n      <td>102</td>\n      <td>88</td>\n      <td>2014</td>\n      <td>452</td>\n      <td>0</td>\n      <td>0</td>\n      <td>0</td>\n      <td>0</td>\n      <td>0</td>\n      <td>0</td>\n      <td>...</td>\n      <td>0</td>\n      <td>0</td>\n      <td>0</td>\n      <td>0</td>\n      <td>0</td>\n      <td>0</td>\n      <td>0</td>\n      <td>0</td>\n      <td>0</td>\n      <td>7.448082</td>\n    </tr>\n    <tr>\n      <th>10557</th>\n      <td>9343</td>\n      <td>96</td>\n      <td>2014</td>\n      <td>548</td>\n      <td>0</td>\n      <td>0</td>\n      <td>0</td>\n      <td>0</td>\n      <td>0</td>\n      <td>0</td>\n      <td>...</td>\n      <td>0</td>\n      <td>0</td>\n      <td>0</td>\n      <td>0</td>\n      <td>0</td>\n      <td>0</td>\n      <td>0</td>\n      <td>0</td>\n      <td>0</td>\n      <td>7.516349</td>\n    </tr>\n    <tr>\n      <th>10558</th>\n      <td>174</td>\n      <td>116</td>\n      <td>2014</td>\n      <td>5</td>\n      <td>0</td>\n      <td>0</td>\n      <td>0</td>\n      <td>0</td>\n      <td>0</td>\n      <td>1</td>\n      <td>...</td>\n      <td>0</td>\n      <td>0</td>\n      <td>0</td>\n      <td>0</td>\n      <td>0</td>\n      <td>0</td>\n      <td>0</td>\n      <td>0</td>\n      <td>0</td>\n      <td>7.335134</td>\n    </tr>\n  </tbody>\n</table>\n<p>2112 rows × 1206 columns</p>\n</div>"
     },
     "execution_count": 64,
     "metadata": {},
     "output_type": "execute_result"
    }
   ],
   "source": [
    "catboost_regressor = CatBoostRegressor(random_state=42, verbose=0)\n",
    "catboost_regressor.fit(X_train, y_train)\n",
    "X_test['catboost_regressor模型预测评分'] = catboost_regressor.predict(X_test)\n",
    "X_test"
   ]
  },
  {
   "cell_type": "code",
   "execution_count": 65,
   "id": "48668409",
   "metadata": {
    "ExecuteTime": {
     "end_time": "2023-12-20T03:22:37.753792700Z",
     "start_time": "2023-12-20T03:22:37.594495200Z"
    }
   },
   "outputs": [],
   "source": [
    "X = df.drop(['douban_score'], axis=1)  # 特征\n",
    "y = df['douban_score']  # 目标变量\n",
    "X_train, X_test, y_train, y_test = train_test_split(X, y, test_size=0.2, random_state=42,shuffle=False)"
   ]
  },
  {
   "cell_type": "code",
   "execution_count": 66,
   "id": "70db6e8a",
   "metadata": {
    "ExecuteTime": {
     "end_time": "2023-12-20T03:22:37.975079500Z",
     "start_time": "2023-12-20T03:22:37.676187Z"
    }
   },
   "outputs": [
    {
     "name": "stderr",
     "output_type": "stream",
     "text": [
      "C:\\Users\\dong\\AppData\\Local\\Temp/ipykernel_16656/1385701504.py:3: SettingWithCopyWarning: \n",
      "A value is trying to be set on a copy of a slice from a DataFrame.\n",
      "Try using .loc[row_indexer,col_indexer] = value instead\n",
      "\n",
      "See the caveats in the documentation: https://pandas.pydata.org/pandas-docs/stable/user_guide/indexing.html#returning-a-view-versus-a-copy\n",
      "  X_test['xgb_regressor模型预测评分'] = lgbm_regressor.predict(X_test)\n"
     ]
    },
    {
     "data": {
      "text/plain": "       douban_votes  duration  year  genres  Comedy  传记  传记/历史/古装  传记/古装/戏曲  \\\n8447            438       106  1975      30       0   0         0         0   \n8448            869       100  1975    1161       0   0         0         0   \n8449            923       117  1975      69       0   0         0         0   \n8450            168        83  1974     218       0   0         0         0   \n8451             76       110  1974       5       0   0         0         0   \n...             ...       ...   ...     ...     ...  ..       ...       ...   \n10554          1903        98  2015     195       0   0         0         0   \n10555           142       121  2014       5       0   0         0         0   \n10556           102        88  2014     452       0   0         0         0   \n10557          9343        96  2014     548       0   0         0         0   \n10558           174       116  2014       5       0   0         0         0   \n\n       传记/西部  剧情  ...  西部/奇幻/冒险  音乐  音乐/传记  音乐/儿童  音乐/儿童/古装  音乐/歌舞  \\\n8447       0   0  ...         0   0      0      0         0      0   \n8448       0   0  ...         0   0      0      0         0      0   \n8449       0   0  ...         0   0      0      0         0      0   \n8450       0   0  ...         0   0      0      0         0      0   \n8451       0   1  ...         0   0      0      0         0      0   \n...      ...  ..  ...       ...  ..    ...    ...       ...    ...   \n10554      0   0  ...         0   0      0      0         0      0   \n10555      0   1  ...         0   0      0      0         0      0   \n10556      0   0  ...         0   0      0      0         0      0   \n10557      0   0  ...         0   0      0      0         0      0   \n10558      0   1  ...         0   0      0      0         0      0   \n\n       音乐/歌舞/家庭/传记  音乐/歌舞/真人秀  音乐/真人秀  xgb_regressor模型预测评分  \n8447             0          0       0             7.518387  \n8448             0          0       0             7.731146  \n8449             0          0       0             7.539351  \n8450             0          0       0             7.494567  \n8451             0          0       0             7.489369  \n...            ...        ...     ...                  ...  \n10554            0          0       0             7.416813  \n10555            0          0       0             7.346899  \n10556            0          0       0             7.428493  \n10557            0          0       0             7.540857  \n10558            0          0       0             7.323686  \n\n[2112 rows x 1206 columns]",
      "text/html": "<div>\n<style scoped>\n    .dataframe tbody tr th:only-of-type {\n        vertical-align: middle;\n    }\n\n    .dataframe tbody tr th {\n        vertical-align: top;\n    }\n\n    .dataframe thead th {\n        text-align: right;\n    }\n</style>\n<table border=\"1\" class=\"dataframe\">\n  <thead>\n    <tr style=\"text-align: right;\">\n      <th></th>\n      <th>douban_votes</th>\n      <th>duration</th>\n      <th>year</th>\n      <th>genres</th>\n      <th>Comedy</th>\n      <th>传记</th>\n      <th>传记/历史/古装</th>\n      <th>传记/古装/戏曲</th>\n      <th>传记/西部</th>\n      <th>剧情</th>\n      <th>...</th>\n      <th>西部/奇幻/冒险</th>\n      <th>音乐</th>\n      <th>音乐/传记</th>\n      <th>音乐/儿童</th>\n      <th>音乐/儿童/古装</th>\n      <th>音乐/歌舞</th>\n      <th>音乐/歌舞/家庭/传记</th>\n      <th>音乐/歌舞/真人秀</th>\n      <th>音乐/真人秀</th>\n      <th>xgb_regressor模型预测评分</th>\n    </tr>\n  </thead>\n  <tbody>\n    <tr>\n      <th>8447</th>\n      <td>438</td>\n      <td>106</td>\n      <td>1975</td>\n      <td>30</td>\n      <td>0</td>\n      <td>0</td>\n      <td>0</td>\n      <td>0</td>\n      <td>0</td>\n      <td>0</td>\n      <td>...</td>\n      <td>0</td>\n      <td>0</td>\n      <td>0</td>\n      <td>0</td>\n      <td>0</td>\n      <td>0</td>\n      <td>0</td>\n      <td>0</td>\n      <td>0</td>\n      <td>7.518387</td>\n    </tr>\n    <tr>\n      <th>8448</th>\n      <td>869</td>\n      <td>100</td>\n      <td>1975</td>\n      <td>1161</td>\n      <td>0</td>\n      <td>0</td>\n      <td>0</td>\n      <td>0</td>\n      <td>0</td>\n      <td>0</td>\n      <td>...</td>\n      <td>0</td>\n      <td>0</td>\n      <td>0</td>\n      <td>0</td>\n      <td>0</td>\n      <td>0</td>\n      <td>0</td>\n      <td>0</td>\n      <td>0</td>\n      <td>7.731146</td>\n    </tr>\n    <tr>\n      <th>8449</th>\n      <td>923</td>\n      <td>117</td>\n      <td>1975</td>\n      <td>69</td>\n      <td>0</td>\n      <td>0</td>\n      <td>0</td>\n      <td>0</td>\n      <td>0</td>\n      <td>0</td>\n      <td>...</td>\n      <td>0</td>\n      <td>0</td>\n      <td>0</td>\n      <td>0</td>\n      <td>0</td>\n      <td>0</td>\n      <td>0</td>\n      <td>0</td>\n      <td>0</td>\n      <td>7.539351</td>\n    </tr>\n    <tr>\n      <th>8450</th>\n      <td>168</td>\n      <td>83</td>\n      <td>1974</td>\n      <td>218</td>\n      <td>0</td>\n      <td>0</td>\n      <td>0</td>\n      <td>0</td>\n      <td>0</td>\n      <td>0</td>\n      <td>...</td>\n      <td>0</td>\n      <td>0</td>\n      <td>0</td>\n      <td>0</td>\n      <td>0</td>\n      <td>0</td>\n      <td>0</td>\n      <td>0</td>\n      <td>0</td>\n      <td>7.494567</td>\n    </tr>\n    <tr>\n      <th>8451</th>\n      <td>76</td>\n      <td>110</td>\n      <td>1974</td>\n      <td>5</td>\n      <td>0</td>\n      <td>0</td>\n      <td>0</td>\n      <td>0</td>\n      <td>0</td>\n      <td>1</td>\n      <td>...</td>\n      <td>0</td>\n      <td>0</td>\n      <td>0</td>\n      <td>0</td>\n      <td>0</td>\n      <td>0</td>\n      <td>0</td>\n      <td>0</td>\n      <td>0</td>\n      <td>7.489369</td>\n    </tr>\n    <tr>\n      <th>...</th>\n      <td>...</td>\n      <td>...</td>\n      <td>...</td>\n      <td>...</td>\n      <td>...</td>\n      <td>...</td>\n      <td>...</td>\n      <td>...</td>\n      <td>...</td>\n      <td>...</td>\n      <td>...</td>\n      <td>...</td>\n      <td>...</td>\n      <td>...</td>\n      <td>...</td>\n      <td>...</td>\n      <td>...</td>\n      <td>...</td>\n      <td>...</td>\n      <td>...</td>\n      <td>...</td>\n    </tr>\n    <tr>\n      <th>10554</th>\n      <td>1903</td>\n      <td>98</td>\n      <td>2015</td>\n      <td>195</td>\n      <td>0</td>\n      <td>0</td>\n      <td>0</td>\n      <td>0</td>\n      <td>0</td>\n      <td>0</td>\n      <td>...</td>\n      <td>0</td>\n      <td>0</td>\n      <td>0</td>\n      <td>0</td>\n      <td>0</td>\n      <td>0</td>\n      <td>0</td>\n      <td>0</td>\n      <td>0</td>\n      <td>7.416813</td>\n    </tr>\n    <tr>\n      <th>10555</th>\n      <td>142</td>\n      <td>121</td>\n      <td>2014</td>\n      <td>5</td>\n      <td>0</td>\n      <td>0</td>\n      <td>0</td>\n      <td>0</td>\n      <td>0</td>\n      <td>1</td>\n      <td>...</td>\n      <td>0</td>\n      <td>0</td>\n      <td>0</td>\n      <td>0</td>\n      <td>0</td>\n      <td>0</td>\n      <td>0</td>\n      <td>0</td>\n      <td>0</td>\n      <td>7.346899</td>\n    </tr>\n    <tr>\n      <th>10556</th>\n      <td>102</td>\n      <td>88</td>\n      <td>2014</td>\n      <td>452</td>\n      <td>0</td>\n      <td>0</td>\n      <td>0</td>\n      <td>0</td>\n      <td>0</td>\n      <td>0</td>\n      <td>...</td>\n      <td>0</td>\n      <td>0</td>\n      <td>0</td>\n      <td>0</td>\n      <td>0</td>\n      <td>0</td>\n      <td>0</td>\n      <td>0</td>\n      <td>0</td>\n      <td>7.428493</td>\n    </tr>\n    <tr>\n      <th>10557</th>\n      <td>9343</td>\n      <td>96</td>\n      <td>2014</td>\n      <td>548</td>\n      <td>0</td>\n      <td>0</td>\n      <td>0</td>\n      <td>0</td>\n      <td>0</td>\n      <td>0</td>\n      <td>...</td>\n      <td>0</td>\n      <td>0</td>\n      <td>0</td>\n      <td>0</td>\n      <td>0</td>\n      <td>0</td>\n      <td>0</td>\n      <td>0</td>\n      <td>0</td>\n      <td>7.540857</td>\n    </tr>\n    <tr>\n      <th>10558</th>\n      <td>174</td>\n      <td>116</td>\n      <td>2014</td>\n      <td>5</td>\n      <td>0</td>\n      <td>0</td>\n      <td>0</td>\n      <td>0</td>\n      <td>0</td>\n      <td>1</td>\n      <td>...</td>\n      <td>0</td>\n      <td>0</td>\n      <td>0</td>\n      <td>0</td>\n      <td>0</td>\n      <td>0</td>\n      <td>0</td>\n      <td>0</td>\n      <td>0</td>\n      <td>7.323686</td>\n    </tr>\n  </tbody>\n</table>\n<p>2112 rows × 1206 columns</p>\n</div>"
     },
     "execution_count": 66,
     "metadata": {},
     "output_type": "execute_result"
    }
   ],
   "source": [
    "lgbm_regressor = LGBMRegressor(random_state=42)\n",
    "lgbm_regressor.fit(X_train, y_train)\n",
    "X_test['lgbm_regressor模型预测评分'] = lgbm_regressor.predict(X_test)\n",
    "X_test"
   ]
  },
  {
   "cell_type": "code",
   "execution_count": 67,
   "id": "29dc1c24",
   "metadata": {
    "ExecuteTime": {
     "end_time": "2023-12-20T03:23:08.404049800Z",
     "start_time": "2023-12-20T03:22:37.972092200Z"
    }
   },
   "outputs": [
    {
     "data": {
      "text/plain": "<catboost.core.CatBoostRegressor at 0x22951ccb100>"
     },
     "execution_count": 67,
     "metadata": {},
     "output_type": "execute_result"
    }
   ],
   "source": [
    "X = df.drop(['douban_score'], axis=1)  # 特征\n",
    "y = df['douban_score']  # 目标变量\n",
    "X_train, X_test, y_train, y_test = train_test_split(X, y, test_size=0.2, random_state=42)\n",
    "\n",
    "# 训练各个回归模型\n",
    "\n",
    "rf_regressor = RandomForestRegressor(n_estimators=100, random_state=42)\n",
    "rf_regressor.fit(X_train, y_train)\n",
    "\n",
    "dt_regressor = DecisionTreeRegressor(random_state=42)\n",
    "dt_regressor.fit(X_train, y_train)\n",
    "\n",
    "lr_regressor = LinearRegression()\n",
    "lr_regressor.fit(X_train, y_train)\n",
    "\n",
    "# xgb_regressor = XGBRegressor(random_state=42)\n",
    "# xgb_regressor.fit(X_train, y_train)\n",
    "\n",
    "catboost_regressor = CatBoostRegressor(random_state=42, verbose=0)\n",
    "catboost_regressor.fit(X_train, y_train)\n",
    "\n",
    "# lgbm_regressor = LGBMRegressor(random_state=42)\n",
    "# lgbm_regressor.fit(X_train, y_train)\n"
   ]
  },
  {
   "cell_type": "code",
   "execution_count": 68,
   "id": "7acb4a13",
   "metadata": {
    "ExecuteTime": {
     "end_time": "2023-12-20T03:23:08.610394Z",
     "start_time": "2023-12-20T03:23:08.411051Z"
    }
   },
   "outputs": [],
   "source": [
    "# 进行预测\n",
    "\n",
    "y_pred_rf = rf_regressor.predict(X_test)\n",
    "y_pred_dt = dt_regressor.predict(X_test)\n",
    "y_pred_lr = lr_regressor.predict(X_test)\n",
    "# y_pred_xgb = xgb_regressor.predict(X_test)\n",
    "y_pred_catboost = catboost_regressor.predict(X_test)\n",
    "# y_pred_lgbm = lgbm_regressor.predict(X_test)"
   ]
  },
  {
   "cell_type": "code",
   "execution_count": 69,
   "id": "774637cb",
   "metadata": {
    "ExecuteTime": {
     "end_time": "2023-12-20T03:23:08.625395400Z",
     "start_time": "2023-12-20T03:23:08.612393Z"
    }
   },
   "outputs": [],
   "source": [
    "# 计算各个模型的性能指标\n",
    "\n",
    "def evaluate_model(y_true, y_pred):\n",
    "    mse = mean_squared_error(y_true, y_pred)\n",
    "    rmse = np.sqrt(mse)\n",
    "    mae = mean_absolute_error(y_true, y_pred)\n",
    "    r2 = r2_score(y_true, y_pred)\n",
    "    return mse, rmse, mae, r2\n",
    "\n",
    "mse_rf, rmse_rf, mae_rf, r2_rf = evaluate_model(y_test, y_pred_rf)\n",
    "mse_dt, rmse_dt, mae_dt, r2_dt = evaluate_model(y_test, y_pred_dt)\n",
    "mse_lr, rmse_lr, mae_lr, r2_lr = evaluate_model(y_test, y_pred_lr)\n",
    "# mse_xgb, rmse_xgb, mae_xgb, r2_xgb = evaluate_model(y_test, y_pred_xgb)\n",
    "mse_catboost, rmse_catboost, mae_catboost, r2_catboost = evaluate_model(y_test, y_pred_catboost)\n",
    "# mse_lgbm, rmse_lgbm, mae_lgbm, r2_lgbm = evaluate_model(y_test, y_pred_lgbm)"
   ]
  },
  {
   "cell_type": "code",
   "execution_count": 70,
   "id": "00d9b0b2",
   "metadata": {
    "ExecuteTime": {
     "end_time": "2023-12-20T03:23:08.651391700Z",
     "start_time": "2023-12-20T03:23:08.627391Z"
    }
   },
   "outputs": [],
   "source": [
    "# 创建数据框来比较各个模型的性能\n",
    "\n",
    "comparison_df = pd.DataFrame({'Model': ['Random Forest', 'Decision Tree', 'Linear Regression', 'CatBoost'],\n",
    "                              'MSE': [mse_rf, mse_dt, mse_lr, mse_catboost],\n",
    "                              'RMSE': [rmse_rf, rmse_dt, rmse_lr, rmse_catboost],\n",
    "                              'MAE': [mae_rf, mae_dt, mae_lr, mae_catboost],\n",
    "                              'R^2': [r2_rf, r2_dt, r2_lr, r2_catboost]})"
   ]
  },
  {
   "cell_type": "code",
   "execution_count": 71,
   "id": "e52af709",
   "metadata": {
    "ExecuteTime": {
     "end_time": "2023-12-20T03:23:08.662394800Z",
     "start_time": "2023-12-20T03:23:08.646404500Z"
    }
   },
   "outputs": [
    {
     "data": {
      "text/plain": "               Model       MSE      RMSE       MAE       R^2\n0      Random Forest  0.277891  0.527154  0.408008  0.247265\n1      Decision Tree  0.480511  0.693189  0.530492 -0.301580\n2  Linear Regression  0.345409  0.587715  0.470315  0.064378\n3           CatBoost  0.257149  0.507099  0.400672  0.303451",
      "text/html": "<div>\n<style scoped>\n    .dataframe tbody tr th:only-of-type {\n        vertical-align: middle;\n    }\n\n    .dataframe tbody tr th {\n        vertical-align: top;\n    }\n\n    .dataframe thead th {\n        text-align: right;\n    }\n</style>\n<table border=\"1\" class=\"dataframe\">\n  <thead>\n    <tr style=\"text-align: right;\">\n      <th></th>\n      <th>Model</th>\n      <th>MSE</th>\n      <th>RMSE</th>\n      <th>MAE</th>\n      <th>R^2</th>\n    </tr>\n  </thead>\n  <tbody>\n    <tr>\n      <th>0</th>\n      <td>Random Forest</td>\n      <td>0.277891</td>\n      <td>0.527154</td>\n      <td>0.408008</td>\n      <td>0.247265</td>\n    </tr>\n    <tr>\n      <th>1</th>\n      <td>Decision Tree</td>\n      <td>0.480511</td>\n      <td>0.693189</td>\n      <td>0.530492</td>\n      <td>-0.301580</td>\n    </tr>\n    <tr>\n      <th>2</th>\n      <td>Linear Regression</td>\n      <td>0.345409</td>\n      <td>0.587715</td>\n      <td>0.470315</td>\n      <td>0.064378</td>\n    </tr>\n    <tr>\n      <th>3</th>\n      <td>CatBoost</td>\n      <td>0.257149</td>\n      <td>0.507099</td>\n      <td>0.400672</td>\n      <td>0.303451</td>\n    </tr>\n  </tbody>\n</table>\n</div>"
     },
     "execution_count": 71,
     "metadata": {},
     "output_type": "execute_result"
    }
   ],
   "source": [
    "comparison_df"
   ]
  },
  {
   "cell_type": "code",
   "execution_count": 72,
   "id": "b21adb36",
   "metadata": {
    "ExecuteTime": {
     "end_time": "2023-12-20T03:23:08.671390100Z",
     "start_time": "2023-12-20T03:23:08.658395600Z"
    }
   },
   "outputs": [],
   "source": [
    "predictions_df = pd.DataFrame({'True Values': y_test,\n",
    "                               'Random Forest Predictions': y_pred_rf,\n",
    "                               'Decision Tree Predictions': y_pred_dt,\n",
    "                               'Linear Regression Predictions': y_pred_lr,\n",
    "#                                'XGBoost Predictions': y_pred_xgb,\n",
    "                               'CatBoost Predictions': y_pred_catboost,})\n",
    "#                                'LightGBM Predictions': y_pred_lgbm"
   ]
  },
  {
   "cell_type": "code",
   "execution_count": 73,
   "id": "d05889c4",
   "metadata": {
    "scrolled": true,
    "ExecuteTime": {
     "end_time": "2023-12-20T03:23:08.733017900Z",
     "start_time": "2023-12-20T03:23:08.679398Z"
    }
   },
   "outputs": [
    {
     "data": {
      "text/plain": "      True Values  Random Forest Predictions  Decision Tree Predictions  \\\n3281          7.7                      7.528                        7.4   \n3535          7.7                      7.212                        6.8   \n4187          7.6                      7.199                        7.0   \n8706          6.8                      7.809                        7.7   \n1113          8.3                      7.444                        8.3   \n...           ...                        ...                        ...   \n323           8.7                      7.481                        7.4   \n9951          6.6                      7.023                        7.0   \n1097          8.3                      7.277                        8.9   \n9325          6.7                      7.469                        7.8   \n5638          7.3                      6.812                        6.5   \n\n      Linear Regression Predictions  CatBoost Predictions  \n3281                       7.593806              7.430828  \n3535                       7.278800              7.187205  \n4187                       7.428056              7.421080  \n8706                       7.825855              7.811367  \n1113                       7.208641              7.423225  \n...                             ...                   ...  \n323                        7.743394              7.615850  \n9951                       7.501241              7.118886  \n1097                       6.638157              7.320714  \n9325                       7.663490              7.561588  \n5638                       7.197800              6.957740  \n\n[2112 rows x 5 columns]",
      "text/html": "<div>\n<style scoped>\n    .dataframe tbody tr th:only-of-type {\n        vertical-align: middle;\n    }\n\n    .dataframe tbody tr th {\n        vertical-align: top;\n    }\n\n    .dataframe thead th {\n        text-align: right;\n    }\n</style>\n<table border=\"1\" class=\"dataframe\">\n  <thead>\n    <tr style=\"text-align: right;\">\n      <th></th>\n      <th>True Values</th>\n      <th>Random Forest Predictions</th>\n      <th>Decision Tree Predictions</th>\n      <th>Linear Regression Predictions</th>\n      <th>CatBoost Predictions</th>\n    </tr>\n  </thead>\n  <tbody>\n    <tr>\n      <th>3281</th>\n      <td>7.7</td>\n      <td>7.528</td>\n      <td>7.4</td>\n      <td>7.593806</td>\n      <td>7.430828</td>\n    </tr>\n    <tr>\n      <th>3535</th>\n      <td>7.7</td>\n      <td>7.212</td>\n      <td>6.8</td>\n      <td>7.278800</td>\n      <td>7.187205</td>\n    </tr>\n    <tr>\n      <th>4187</th>\n      <td>7.6</td>\n      <td>7.199</td>\n      <td>7.0</td>\n      <td>7.428056</td>\n      <td>7.421080</td>\n    </tr>\n    <tr>\n      <th>8706</th>\n      <td>6.8</td>\n      <td>7.809</td>\n      <td>7.7</td>\n      <td>7.825855</td>\n      <td>7.811367</td>\n    </tr>\n    <tr>\n      <th>1113</th>\n      <td>8.3</td>\n      <td>7.444</td>\n      <td>8.3</td>\n      <td>7.208641</td>\n      <td>7.423225</td>\n    </tr>\n    <tr>\n      <th>...</th>\n      <td>...</td>\n      <td>...</td>\n      <td>...</td>\n      <td>...</td>\n      <td>...</td>\n    </tr>\n    <tr>\n      <th>323</th>\n      <td>8.7</td>\n      <td>7.481</td>\n      <td>7.4</td>\n      <td>7.743394</td>\n      <td>7.615850</td>\n    </tr>\n    <tr>\n      <th>9951</th>\n      <td>6.6</td>\n      <td>7.023</td>\n      <td>7.0</td>\n      <td>7.501241</td>\n      <td>7.118886</td>\n    </tr>\n    <tr>\n      <th>1097</th>\n      <td>8.3</td>\n      <td>7.277</td>\n      <td>8.9</td>\n      <td>6.638157</td>\n      <td>7.320714</td>\n    </tr>\n    <tr>\n      <th>9325</th>\n      <td>6.7</td>\n      <td>7.469</td>\n      <td>7.8</td>\n      <td>7.663490</td>\n      <td>7.561588</td>\n    </tr>\n    <tr>\n      <th>5638</th>\n      <td>7.3</td>\n      <td>6.812</td>\n      <td>6.5</td>\n      <td>7.197800</td>\n      <td>6.957740</td>\n    </tr>\n  </tbody>\n</table>\n<p>2112 rows × 5 columns</p>\n</div>"
     },
     "execution_count": 73,
     "metadata": {},
     "output_type": "execute_result"
    }
   ],
   "source": [
    "predictions_df"
   ]
  },
  {
   "cell_type": "code",
   "execution_count": 74,
   "id": "3996ab0b",
   "metadata": {
    "ExecuteTime": {
     "end_time": "2023-12-20T03:24:23.876067300Z",
     "start_time": "2023-12-20T03:24:23.768062200Z"
    }
   },
   "outputs": [
    {
     "name": "stderr",
     "output_type": "stream",
     "text": [
      "C:\\Users\\dong\\AppData\\Local\\Temp/ipykernel_16656/3769922626.py:1: SettingWithCopyWarning: \n",
      "A value is trying to be set on a copy of a slice from a DataFrame.\n",
      "Try using .loc[row_indexer,col_indexer] = value instead\n",
      "\n",
      "See the caveats in the documentation: https://pandas.pydata.org/pandas-docs/stable/user_guide/indexing.html#returning-a-view-versus-a-copy\n",
      "  X_test['label'] = rf_regressor.predict(X_test)\n"
     ]
    }
   ],
   "source": [
    "X_test['label'] = rf_regressor.predict(X_test)"
   ]
  },
  {
   "cell_type": "code",
   "execution_count": 77,
   "id": "f39822c5",
   "metadata": {
    "ExecuteTime": {
     "end_time": "2023-12-20T03:25:11.066474700Z",
     "start_time": "2023-12-20T03:25:11.041288500Z"
    }
   },
   "outputs": [
    {
     "name": "stdout",
     "output_type": "stream",
     "text": [
      "未上映电影预测评分为：6.8119999999999985\n"
     ]
    }
   ],
   "source": [
    "movie_rating_score = X_test.iloc[-1]\n",
    "\n",
    "print(\"未上映电影预测评分为：\"+str (movie_rating_score[-1]))\n"
   ]
  },
  {
   "cell_type": "code",
   "execution_count": 73,
   "id": "b9929f70",
   "metadata": {
    "ExecuteTime": {
     "end_time": "2023-12-20T03:23:08.798025300Z",
     "start_time": "2023-12-20T03:23:08.718403Z"
    }
   },
   "outputs": [],
   "source": []
  },
  {
   "cell_type": "code",
   "execution_count": 73,
   "id": "2bb7e767",
   "metadata": {
    "ExecuteTime": {
     "end_time": "2023-12-20T03:23:08.799009500Z",
     "start_time": "2023-12-20T03:23:08.735004600Z"
    }
   },
   "outputs": [],
   "source": []
  },
  {
   "cell_type": "code",
   "execution_count": 73,
   "id": "05d05bbb",
   "metadata": {
    "ExecuteTime": {
     "end_time": "2023-12-20T03:23:08.802018600Z",
     "start_time": "2023-12-20T03:23:08.750007200Z"
    }
   },
   "outputs": [],
   "source": []
  }
 ],
 "metadata": {
  "kernelspec": {
   "display_name": "Python 3 (ipykernel)",
   "language": "python",
   "name": "python3"
  },
  "language_info": {
   "codemirror_mode": {
    "name": "ipython",
    "version": 3
   },
   "file_extension": ".py",
   "mimetype": "text/x-python",
   "name": "python",
   "nbconvert_exporter": "python",
   "pygments_lexer": "ipython3",
   "version": "3.9.7"
  }
 },
 "nbformat": 4,
 "nbformat_minor": 5
}
